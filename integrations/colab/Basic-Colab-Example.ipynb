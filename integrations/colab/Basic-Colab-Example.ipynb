{
  "nbformat": 4,
  "nbformat_minor": 0,
  "metadata": {
    "colab": {
      "name": "Basic-Colab-Example.ipynb",
      "private_outputs": true,
      "provenance": [],
      "collapsed_sections": [],
      "toc_visible": true
    },
    "kernelspec": {
      "display_name": "Python 3",
      "language": "python",
      "name": "python3"
    },
    "language_info": {
      "codemirror_mode": {
        "name": "ipython",
        "version": 3
      },
      "file_extension": ".py",
      "mimetype": "text/x-python",
      "name": "python",
      "nbconvert_exporter": "python",
      "pygments_lexer": "ipython3",
      "version": "3.6.9"
    },
    "toc-autonumbering": true,
    "toc-showcode": false,
    "toc-showmarkdowntxt": false,
    "toc-showtags": true
  },
  "cells": [
    {
      "cell_type": "markdown",
      "metadata": {
        "id": "GG3_2HyRVY4Y",
        "tags": [
          "header",
          "comment"
        ]
      },
      "source": [
        "# Introduction"
      ]
    },
    {
      "cell_type": "markdown",
      "metadata": {
        "id": "3wSDx9alU7Zx",
        "tags": [
          "comment"
        ]
      },
      "source": [
        "This guide will show you how to:\n",
        "\n",
        "* Install ```neptune-client```,\n",
        "* Connect Neptune to your Colab notebook and create the first run,\n",
        "* Log simple metrics to Neptune and explore them in the UI."
      ]
    },
    {
      "cell_type": "markdown",
      "metadata": {
        "id": "FUaDrmRu-h3k"
      },
      "source": [
        "# Step 0: Before you start\n",
        "\n",
        "Make sure that you have an account with both [Google](https://support.google.com/accounts/answer/27441?hl=en) and [Neptune](https://neptune.ai/register) (optional if you just want to try out the application as an anonymous user)."
      ]
    },
    {
      "cell_type": "markdown",
      "metadata": {
        "id": "0NQaVXuoWA-E",
        "tags": [
          "header",
          "installation"
        ]
      },
      "source": [
        "# Step 1: Install ```neptune-client``` and import `neptune`"
      ]
    },
    {
      "cell_type": "code",
      "metadata": {
        "id": "wmpN4W8wQ7MI",
        "tags": [
          "installation"
        ]
      },
      "source": [
        "! pip install --upgrade --quiet neptune-client"
      ],
      "execution_count": null,
      "outputs": []
    },
    {
      "cell_type": "code",
      "metadata": {
        "id": "quJ_tJDk7R3e"
      },
      "source": [
        "import neptune.new as neptune"
      ],
      "execution_count": null,
      "outputs": []
    },
    {
      "cell_type": "markdown",
      "metadata": {
        "id": "7LFLtV5R5JKT",
        "tags": [
          "header"
        ]
      },
      "source": [
        "# Step 2: Initialize Neptune"
      ]
    },
    {
      "cell_type": "markdown",
      "metadata": {
        "tags": [
          "comment"
        ],
        "id": "xoD3U3V_HUzy"
      },
      "source": [
        "Connect your script to Neptune and create a new run."
      ]
    },
    {
      "cell_type": "markdown",
      "metadata": {
        "tags": [
          "comment"
        ],
        "id": "xrjGGLs6HUzy"
      },
      "source": [
        "Basically, you tell Neptune: \n",
        "\n",
        "* **who you are**: your Neptune `api_token` \n",
        "* **where you want to send your data**: your Neptune `project`.\n",
        "\n",
        "At this point, you will have a new run in Neptune. From now on you will use `run` to log metadata to it."
      ]
    },
    {
      "cell_type": "markdown",
      "metadata": {
        "id": "-KClvAKTQ7MR",
        "tags": [
          "header"
        ]
      },
      "source": [
        "## Option 1: Initialize a public project"
      ]
    },
    {
      "cell_type": "markdown",
      "metadata": {
        "id": "0QhyfqDWWvlx",
        "tags": [
          "comment"
        ]
      },
      "source": [
        "Neptune gives you the option of logging data under a public project as an anonymous user. This is great when you are just trying out the application and don't have a Neptune account yet."
      ]
    },
    {
      "cell_type": "code",
      "metadata": {
        "id": "XMdpj-Se4t0U",
        "tags": [
          "code"
        ]
      },
      "source": [
        "run = neptune.init(project='common/neptune-and-google-colab', api_token='ANONYMOUS')"
      ],
      "execution_count": null,
      "outputs": []
    },
    {
      "cell_type": "markdown",
      "metadata": {
        "id": "EBRhrcM3Q7Me",
        "tags": [
          "comment"
        ]
      },
      "source": [
        "Click on the link above to open this run in Neptune. For now it is empty but keep the tab with the run open to see what happens next. "
      ]
    },
    {
      "cell_type": "markdown",
      "metadata": {
        "id": "pCAhb_-NXH6l",
        "tags": [
          "header",
          "exclude"
        ]
      },
      "source": [
        "## Option 2: Initialize a private project"
      ]
    },
    {
      "cell_type": "markdown",
      "metadata": {
        "tags": [
          "comment",
          "exclude"
        ],
        "id": "hZm0XN96HUz2"
      },
      "source": [
        "Instead of logging data to the public project `'common/neptune-and-google-colab'` as an anonymous user `'neptuner'`, you can log it to your own project."
      ]
    },
    {
      "cell_type": "markdown",
      "metadata": {
        "id": "wEb6l4x8ZYlN",
        "tags": [
          "header",
          "exclude"
        ]
      },
      "source": [
        "### Get your personal ```api_token``` to initialize Neptune"
      ]
    },
    {
      "cell_type": "markdown",
      "metadata": {
        "tags": [
          "comment",
          "exclude"
        ],
        "id": "YXeWd99OHUz2"
      },
      "source": [
        "Get your [Neptune API token](https://docs.neptune.ai/getting-started/installation#authentication) and pass it to Neptune:\n",
        "![get_token.gif](https://gblobscdn.gitbook.com/assets%2F-MXTao65xpmg6bawJ5vk%2F-MYZt9HJXRALUZWcKCSo%2F-MY_02rjQ90_XiRgTJ6s%2Fget_token.gif?alt=media&token=3de485e3-5ee2-4b98-b991-33a5b70086b5)\n",
        "\n",
        "The preferred way of doing this is by using the ```getpass()``` method so that your token remains private even if you share the notebook."
      ]
    },
    {
      "cell_type": "code",
      "metadata": {
        "id": "FXPlKmjC10MG",
        "tags": [
          "code",
          "exclude"
        ]
      },
      "source": [
        "from getpass import getpass\n",
        "api_token = getpass('Enter your private Neptune API token: ')"
      ],
      "execution_count": null,
      "outputs": []
    },
    {
      "cell_type": "markdown",
      "metadata": {
        "id": "TQZAqPw5apot",
        "tags": [
          "header",
          "exclude"
        ]
      },
      "source": [
        "### Initialize your private project\n",
        "\n",
        "Remember to [create a new project](https://docs.neptune.ai/administration/workspace-project-and-user-management/projects#create-project) from the UI that you will use for metadata tracking."
      ]
    },
    {
      "cell_type": "code",
      "metadata": {
        "id": "4k_jZnnFwwW8",
        "tags": [
          "code",
          "exclude"
        ]
      },
      "source": [
        "run = neptune.init(project='<username>/<project_name>', api_token=api_token)"
      ],
      "execution_count": null,
      "outputs": []
    },
    {
      "cell_type": "markdown",
      "metadata": {
        "tags": [
          "comment",
          "exclude"
        ],
        "id": "VnSWXRbXHUz3"
      },
      "source": [
        "Click on the link above to open this run in Neptune. For now it is empty but keep the tab with run open to see what happens next. "
      ]
    },
    {
      "cell_type": "markdown",
      "metadata": {
        "tags": [
          "comment"
        ],
        "id": "rhVnTl3THUz4"
      },
      "source": [
        "Runs can be viewed as dictionary-like structures - **namespaces** - that you can define in your code. You can apply a hierarchical structure to your metadata that will be reflected in the UI as well. Thanks to this you can easily organize your metadata in a way you feel is most convenient.\n",
        "\n",
        "There is one special namespace: **system namespace**, denoted `sys`. You can use it to add a name and tags to the run.\n",
        "\n",
        "To view the structure of a run, use the `print_structure()` method."
      ]
    },
    {
      "cell_type": "code",
      "metadata": {
        "id": "_r0Er7EHHram"
      },
      "source": [
        "run.print_structure()"
      ],
      "execution_count": null,
      "outputs": []
    },
    {
      "cell_type": "markdown",
      "metadata": {
        "id": "pk4ZgmW9Q7Mg",
        "tags": [
          "header"
        ]
      },
      "source": [
        "# Step 3: Log metadata during training"
      ]
    },
    {
      "cell_type": "markdown",
      "metadata": {
        "id": "0uyhflfLQ7Mg",
        "tags": [
          "comment"
        ]
      },
      "source": [
        "Log metrics or losses under a name of your choice. You can log one or multiple values.\n",
        "\n",
        "Now run the cell below, and switch over to the Neptune UI to view the live logging."
      ]
    },
    {
      "cell_type": "code",
      "metadata": {
        "id": "jZdLObUSQ7Mi",
        "tags": [
          "code"
        ]
      },
      "source": [
        "from time import sleep\n",
        "\n",
        "params = {'learning_rate': 0.1}\n",
        "\n",
        "# log params\n",
        "run['parameters'] = params\n",
        "\n",
        "# log name and append tags\n",
        "run[\"sys/name\"] = 'colab-example'\n",
        "run[\"sys/tags\"].add(['colab', 'simple'])\n",
        "\n",
        "# log loss during training\n",
        "for epoch in range(132):\n",
        "    sleep(0.1) # to see logging live\n",
        "    run[\"train/loss\"].log(0.97 ** epoch)\n",
        "    run[\"train/loss-pow-2\"].log((0.97 ** epoch)**2)\n",
        "\n",
        "# log train and validation scores\n",
        "run['train/accuracy'] = 0.95\n",
        "run['valid/accuracy'] = 0.93\n",
        "\n",
        "# log files/artifacts\n",
        "! echo \"Welcome to Neptune\" > file.txt\n",
        "run['artifacts/sample'].upload('file.txt') # file will be uploaded as sample.txt"
      ],
      "execution_count": null,
      "outputs": []
    },
    {
      "cell_type": "markdown",
      "metadata": {
        "id": "mRhOAcS0Q7Mm",
        "tags": [
          "comment"
        ]
      },
      "source": [
        "The snippet above logs:\n",
        "\n",
        "* `parameters` with just one field: learning rate,\n",
        "* name of run and two tags,\n",
        "* `train/loss` and `train/loss-pow-2` as series of numbers, visualized as charts in UI,\n",
        "* `train/accuracy` and `valid/accuracy` as single values\n",
        "* `file.txt` which will be visible under All Metadata/artifacts as sample.txt\n",
        "\n",
        "![upload_file_as_artifact.png](https://gblobscdn.gitbook.com/assets%2F-MXTao65xpmg6bawJ5vk%2F-MYZt9HJXRALUZWcKCSo%2F-MY_5xqm2_MtE0usG2bV%2Fupload_file_as_artifact.png?alt=media&token=d861bd06-6389-475f-99fb-b34ec4bc3d06)\n",
        "\n",
        "Go to the `All metadata` and `Charts` sections of the Neptune UI to see them. You can also check an [example run](https://app.neptune.ai/o/common/org/showroom/e/SHOW-37/charts) \n",
        "\n",
        "![colab_example_charts.png](https://gblobscdn.gitbook.com/assets%2F-MXTao65xpmg6bawJ5vk%2F-MYZt9HJXRALUZWcKCSo%2F-MY_69KYOwzBEXczhIss%2Fcolab_example_charts.png?alt=media&token=3ffdc950-581d-4d44-8de3-bce0d4493f5c)\n",
        "\n",
        "**Note:**\n",
        "\n",
        "Neptune automatically logs the hardware consumption during the run. \n",
        "\n",
        "You can see it in the `Monitoring` section of the Neptune UI. \n",
        "\n",
        "![image](https://neptune.ai/wp-content/uploads/Product_hardware-usage-1.png)"
      ]
    },
    {
      "cell_type": "markdown",
      "metadata": {
        "id": "XSHLD6AkI7LW"
      },
      "source": [
        "# Step 4: Stop logging"
      ]
    },
    {
      "cell_type": "markdown",
      "metadata": {
        "id": "IWuABAl_MBDT"
      },
      "source": [
        "Once you are done logging, you can stop tracking the run using the `stop()` method.\n",
        "This is needed only while logging from a notebook environment. While logging through a script, Neptune automatically stops tracking once the script has completed execution."
      ]
    },
    {
      "cell_type": "code",
      "metadata": {
        "id": "Zgh3NwDoJAuG"
      },
      "source": [
        "run.stop()"
      ],
      "execution_count": null,
      "outputs": []
    },
    {
      "cell_type": "markdown",
      "metadata": {
        "id": "had9MNRtQ7Mr",
        "tags": [
          "comment"
        ]
      },
      "source": [
        "# Conclusion\n",
        "\n",
        "You’ve learned how to:\n",
        "* Install `neptune-client`,\n",
        "* Connect Neptune to your Google Colab notebook and create a run,\n",
        "* Log metadata to Neptune,\n",
        "* See your metrics parameters and scores,\n",
        "* See hardware consumption during the run."
      ]
    },
    {
      "cell_type": "markdown",
      "metadata": {
        "id": "_3ibcYhPQ7Mr",
        "tags": [
          "comment"
        ]
      },
      "source": [
        "# What's next\n",
        "\n",
        "Now that you know how to create runs and log metrics, you can learn:\n",
        "\n",
        "* [How to log other objects and monitor training in Neptune](https://neptune.ai/blog/monitoring-machine-learning-experiments-guide)\n",
        "* [How to download runs data from Neptune](https://docs.neptune.ai/user-guides/logging-and-managing-runs-results/downloading-runs-data)\n",
        "* [How to connect Neptune to the ML framework you are using](https://docs.neptune.ai/essentials/integrations)"
      ]
    }
  ]
}
