{
 "cells": [
  {
   "cell_type": "markdown",
   "metadata": {
    "id": "G4ny3mHCFrqG",
    "tags": [
     "header"
    ]
   },
   "source": [
    "# Neptune + Optuna\n",
    "## Before you start\n",
    "### Install dependencies"
   ]
  },
  {
   "cell_type": "code",
   "execution_count": 9,
   "metadata": {
    "id": "jl90ahSMvhmV",
    "tags": [
     "installation"
    ]
   },
   "outputs": [],
   "source": [
    "! pip install --quiet optuna==2.7.0 lightgbm==3.2.1 plotly==4.14.3 neptune-client['optuna']==0.9.12"
   ]
  },
  {
   "cell_type": "markdown",
   "metadata": {
    "id": "auuzaMR3Sei2",
    "tags": [
     "comment"
    ]
   },
   "source": [
    "### Create a Neptune project and get your API token (optional)\n",
    "\n",
    "To log metadata to the Neptune project you need the `project` name and the `api_token`.\n",
    "\n",
    "To make this example easy to follow, we have created a public project 'common/optuna-integration' and a public user 'neptuner' who has the API token 'ANONYMOUS'.\n",
    "\n",
    "```python\n",
    "run = neptune.init(api_token='ANONYMOUS', project='common/optuna-integration')\n",
    "```\n",
    "\n",
    "To log to your Neptune project:\n",
    "* [Create a Neptune account](https://neptune.ai/register)\n",
    "* [Find you API token](https://docs.neptune.ai/getting-started/installation#authentication-neptune-api-token)\n",
    "* [Find your project name](https://docs.neptune.ai/getting-started/installation#setting-the-project-name)\n",
    "* Pass your credentials to `project` and `api_token` arguments of `neptune.init()`\n",
    "\n",
    "\n",
    "```python\n",
    "run = neptune.init(api_token='<YOUR_API_TOKEN>', project='<YOUR_WORKSPACE/YOUR_PROJECT>') # pass your credentials\n",
    "```"
   ]
  },
  {
   "cell_type": "markdown",
   "metadata": {
    "id": "1As3OW3LGqKg",
    "tags": [
     "header"
    ]
   },
   "source": [
    "### Import libraries"
   ]
  },
  {
   "cell_type": "code",
   "execution_count": 10,
   "metadata": {
    "id": "FufE4GTzvRZG",
    "tags": [
     "code"
    ]
   },
   "outputs": [],
   "source": [
    "import lightgbm as lgb\n",
    "import optuna\n",
    "from sklearn.datasets import load_breast_cancer\n",
    "from sklearn.metrics import roc_auc_score\n",
    "from sklearn.model_selection import train_test_split"
   ]
  },
  {
   "cell_type": "markdown",
   "metadata": {
    "id": "K-FNh8EKV40p",
    "tags": [
     "header"
    ]
   },
   "source": [
    "### Create a sample `objective` function for Optuna"
   ]
  },
  {
   "cell_type": "code",
   "execution_count": 11,
   "metadata": {
    "id": "RHuuJb5VV94w",
    "tags": [
     "code"
    ]
   },
   "outputs": [],
   "source": [
    "def objective(trial):\n",
    "    data, target = load_breast_cancer(return_X_y=True)\n",
    "    train_x, test_x, train_y, test_y = train_test_split(data, target, test_size=0.25)\n",
    "    dtrain = lgb.Dataset(train_x, label=train_y)\n",
    "\n",
    "    param = {\n",
    "        'verbose': -1,\n",
    "        'objective': 'binary',\n",
    "        'metric': 'binary_logloss',\n",
    "        'num_leaves': trial.suggest_int('num_leaves', 2, 256),\n",
    "        'feature_fraction': trial.suggest_uniform('feature_fraction', 0.2, 1.0),\n",
    "        'bagging_fraction': trial.suggest_uniform('bagging_fraction', 0.2, 1.0),\n",
    "        'min_child_samples': trial.suggest_int('min_child_samples', 3, 100),\n",
    "    }\n",
    "\n",
    "    gbm = lgb.train(param, dtrain)\n",
    "    preds = gbm.predict(test_x)\n",
    "    accuracy = roc_auc_score(test_y, preds)\n",
    "\n",
    "    return accuracy"
   ]
  },
  {
   "cell_type": "markdown",
   "metadata": {
    "id": "CHp9zfqBToiX",
    "tags": [
     "header"
    ]
   },
   "source": [
    "## Quickstart\n",
    "### Step 1: Create a Neptune Run\n",
    "\n",
    "Add a snippet at the top of your script:"
   ]
  },
  {
   "cell_type": "code",
   "execution_count": 13,
   "metadata": {
    "id": "t5VBefIDwBjR",
    "tags": [
     "code"
    ]
   },
   "outputs": [
    {
     "name": "stdout",
     "output_type": "stream",
     "text": [
      "https://app.neptune.ai/common/optuna-integration/e/NEP1-106\n"
     ]
    }
   ],
   "source": [
    "import neptune.new as neptune\n",
    "\n",
    "run = neptune.init(api_token='ANONYMOUS', project='common/optuna-integration') # you can pass your credentials here"
   ]
  },
  {
   "cell_type": "markdown",
   "metadata": {
    "id": "Be3xPNTHTsIz",
    "tags": [
     "comment"
    ]
   },
   "source": [
    "This creates a Run in Neptune and you can log model building metadata to it. \n",
    "\n",
    "**Click on the link above** to open the Run in Neptune UI.\n",
    "For now it is empty but keep the tab open to see what happens next. "
   ]
  },
  {
   "cell_type": "markdown",
   "metadata": {
    "id": "XomuTzlsVILc",
    "tags": [
     "header"
    ]
   },
   "source": [
    "### Step 2: Initialize the NeptuneCallback"
   ]
  },
  {
   "cell_type": "code",
   "execution_count": 14,
   "metadata": {
    "id": "82879lQuVfsJ",
    "tags": [
     "code"
    ]
   },
   "outputs": [],
   "source": [
    "import neptune.new.integrations.optuna as optuna_utils\n",
    "\n",
    "neptune_callback = optuna_utils.NeptuneCallback(run)"
   ]
  },
  {
   "cell_type": "markdown",
   "metadata": {
    "id": "xbkNjVVLVl8t",
    "tags": [
     "header"
    ]
   },
   "source": [
    "### Step 3: Pass the NeptuneCallback to Optuna Study `.optimize()` method"
   ]
  },
  {
   "cell_type": "code",
   "execution_count": 15,
   "metadata": {
    "id": "40McUYc5wrva",
    "tags": [
     "code"
    ]
   },
   "outputs": [
    {
     "name": "stderr",
     "output_type": "stream",
     "text": [
      "\u001b[32m[I 2021-05-21 08:35:37,505]\u001b[0m A new study created in memory with name: no-name-ecbf6748-9d47-410a-aeda-f3714a9f4468\u001b[0m\n",
      "\u001b[32m[I 2021-05-21 08:35:37,642]\u001b[0m Trial 0 finished with value: 0.9939759036144578 and parameters: {'num_leaves': 65, 'feature_fraction': 0.8660861789274954, 'bagging_fraction': 0.815429197613698, 'min_child_samples': 52}. Best is trial 0 with value: 0.9939759036144578.\u001b[0m\n",
      "\u001b[33m[W 2021-05-21 08:35:37,875]\u001b[0m Param bagging_fraction unique value length is less than 2.\u001b[0m\n",
      "\u001b[33m[W 2021-05-21 08:35:37,888]\u001b[0m Param bagging_fraction unique value length is less than 2.\u001b[0m\n",
      "\u001b[33m[W 2021-05-21 08:35:37,899]\u001b[0m Param bagging_fraction unique value length is less than 2.\u001b[0m\n",
      "\u001b[33m[W 2021-05-21 08:35:37,915]\u001b[0m Param feature_fraction unique value length is less than 2.\u001b[0m\n",
      "\u001b[33m[W 2021-05-21 08:35:37,922]\u001b[0m Param feature_fraction unique value length is less than 2.\u001b[0m\n",
      "\u001b[33m[W 2021-05-21 08:35:37,926]\u001b[0m Param feature_fraction unique value length is less than 2.\u001b[0m\n",
      "\u001b[33m[W 2021-05-21 08:35:37,936]\u001b[0m Param min_child_samples unique value length is less than 2.\u001b[0m\n",
      "\u001b[33m[W 2021-05-21 08:35:37,941]\u001b[0m Param min_child_samples unique value length is less than 2.\u001b[0m\n",
      "\u001b[33m[W 2021-05-21 08:35:37,948]\u001b[0m Param min_child_samples unique value length is less than 2.\u001b[0m\n",
      "\u001b[33m[W 2021-05-21 08:35:37,956]\u001b[0m Param num_leaves unique value length is less than 2.\u001b[0m\n",
      "\u001b[33m[W 2021-05-21 08:35:37,961]\u001b[0m Param num_leaves unique value length is less than 2.\u001b[0m\n",
      "\u001b[33m[W 2021-05-21 08:35:37,966]\u001b[0m Param num_leaves unique value length is less than 2.\u001b[0m\n",
      "\u001b[32m[I 2021-05-21 08:35:38,572]\u001b[0m Trial 1 finished with value: 0.9887110016420361 and parameters: {'num_leaves': 159, 'feature_fraction': 0.6912606656806886, 'bagging_fraction': 0.9428649109304434, 'min_child_samples': 3}. Best is trial 0 with value: 0.9939759036144578.\u001b[0m\n"
     ]
    },
    {
     "ename": "MetadataInconsistency",
     "evalue": "Attribute or namespace best/trials/0/datetime_start is already defined",
     "output_type": "error",
     "traceback": [
      "\u001b[0;31m---------------------------------------------------------------------------\u001b[0m",
      "\u001b[0;31mMetadataInconsistency\u001b[0m                     Traceback (most recent call last)",
      "\u001b[0;32m<ipython-input-15-44a4bd81275f>\u001b[0m in \u001b[0;36m<module>\u001b[0;34m\u001b[0m\n\u001b[1;32m      1\u001b[0m \u001b[0mstudy\u001b[0m \u001b[0;34m=\u001b[0m \u001b[0moptuna\u001b[0m\u001b[0;34m.\u001b[0m\u001b[0mcreate_study\u001b[0m\u001b[0;34m(\u001b[0m\u001b[0mdirection\u001b[0m\u001b[0;34m=\u001b[0m\u001b[0;34m'maximize'\u001b[0m\u001b[0;34m)\u001b[0m\u001b[0;34m\u001b[0m\u001b[0;34m\u001b[0m\u001b[0m\n\u001b[0;32m----> 2\u001b[0;31m \u001b[0mstudy\u001b[0m\u001b[0;34m.\u001b[0m\u001b[0moptimize\u001b[0m\u001b[0;34m(\u001b[0m\u001b[0mobjective\u001b[0m\u001b[0;34m,\u001b[0m \u001b[0mn_trials\u001b[0m\u001b[0;34m=\u001b[0m\u001b[0;36m100\u001b[0m\u001b[0;34m,\u001b[0m \u001b[0mcallbacks\u001b[0m\u001b[0;34m=\u001b[0m\u001b[0;34m[\u001b[0m\u001b[0mneptune_callback\u001b[0m\u001b[0;34m]\u001b[0m\u001b[0;34m)\u001b[0m\u001b[0;34m\u001b[0m\u001b[0;34m\u001b[0m\u001b[0m\n\u001b[0m",
      "\u001b[0;32m~/miniconda3/envs/py_37/lib/python3.7/site-packages/optuna/study.py\u001b[0m in \u001b[0;36moptimize\u001b[0;34m(self, func, n_trials, timeout, n_jobs, catch, callbacks, gc_after_trial, show_progress_bar)\u001b[0m\n\u001b[1;32m    407\u001b[0m             \u001b[0mcallbacks\u001b[0m\u001b[0;34m=\u001b[0m\u001b[0mcallbacks\u001b[0m\u001b[0;34m,\u001b[0m\u001b[0;34m\u001b[0m\u001b[0;34m\u001b[0m\u001b[0m\n\u001b[1;32m    408\u001b[0m             \u001b[0mgc_after_trial\u001b[0m\u001b[0;34m=\u001b[0m\u001b[0mgc_after_trial\u001b[0m\u001b[0;34m,\u001b[0m\u001b[0;34m\u001b[0m\u001b[0;34m\u001b[0m\u001b[0m\n\u001b[0;32m--> 409\u001b[0;31m             \u001b[0mshow_progress_bar\u001b[0m\u001b[0;34m=\u001b[0m\u001b[0mshow_progress_bar\u001b[0m\u001b[0;34m,\u001b[0m\u001b[0;34m\u001b[0m\u001b[0;34m\u001b[0m\u001b[0m\n\u001b[0m\u001b[1;32m    410\u001b[0m         )\n\u001b[1;32m    411\u001b[0m \u001b[0;34m\u001b[0m\u001b[0m\n",
      "\u001b[0;32m~/miniconda3/envs/py_37/lib/python3.7/site-packages/optuna/_optimize.py\u001b[0m in \u001b[0;36m_optimize\u001b[0;34m(study, func, n_trials, timeout, n_jobs, catch, callbacks, gc_after_trial, show_progress_bar)\u001b[0m\n\u001b[1;32m     74\u001b[0m                 \u001b[0mreseed_sampler_rng\u001b[0m\u001b[0;34m=\u001b[0m\u001b[0;32mFalse\u001b[0m\u001b[0;34m,\u001b[0m\u001b[0;34m\u001b[0m\u001b[0;34m\u001b[0m\u001b[0m\n\u001b[1;32m     75\u001b[0m                 \u001b[0mtime_start\u001b[0m\u001b[0;34m=\u001b[0m\u001b[0;32mNone\u001b[0m\u001b[0;34m,\u001b[0m\u001b[0;34m\u001b[0m\u001b[0;34m\u001b[0m\u001b[0m\n\u001b[0;32m---> 76\u001b[0;31m                 \u001b[0mprogress_bar\u001b[0m\u001b[0;34m=\u001b[0m\u001b[0mprogress_bar\u001b[0m\u001b[0;34m,\u001b[0m\u001b[0;34m\u001b[0m\u001b[0;34m\u001b[0m\u001b[0m\n\u001b[0m\u001b[1;32m     77\u001b[0m             )\n\u001b[1;32m     78\u001b[0m         \u001b[0;32melse\u001b[0m\u001b[0;34m:\u001b[0m\u001b[0;34m\u001b[0m\u001b[0;34m\u001b[0m\u001b[0m\n",
      "\u001b[0;32m~/miniconda3/envs/py_37/lib/python3.7/site-packages/optuna/_optimize.py\u001b[0m in \u001b[0;36m_optimize_sequential\u001b[0;34m(study, func, n_trials, timeout, catch, callbacks, gc_after_trial, reseed_sampler_rng, time_start, progress_bar)\u001b[0m\n\u001b[1;32m    175\u001b[0m             \u001b[0mfrozen_trial\u001b[0m \u001b[0;34m=\u001b[0m \u001b[0mcopy\u001b[0m\u001b[0;34m.\u001b[0m\u001b[0mdeepcopy\u001b[0m\u001b[0;34m(\u001b[0m\u001b[0mstudy\u001b[0m\u001b[0;34m.\u001b[0m\u001b[0m_storage\u001b[0m\u001b[0;34m.\u001b[0m\u001b[0mget_trial\u001b[0m\u001b[0;34m(\u001b[0m\u001b[0mtrial\u001b[0m\u001b[0;34m.\u001b[0m\u001b[0m_trial_id\u001b[0m\u001b[0;34m)\u001b[0m\u001b[0;34m)\u001b[0m\u001b[0;34m\u001b[0m\u001b[0;34m\u001b[0m\u001b[0m\n\u001b[1;32m    176\u001b[0m             \u001b[0;32mfor\u001b[0m \u001b[0mcallback\u001b[0m \u001b[0;32min\u001b[0m \u001b[0mcallbacks\u001b[0m\u001b[0;34m:\u001b[0m\u001b[0;34m\u001b[0m\u001b[0;34m\u001b[0m\u001b[0m\n\u001b[0;32m--> 177\u001b[0;31m                 \u001b[0mcallback\u001b[0m\u001b[0;34m(\u001b[0m\u001b[0mstudy\u001b[0m\u001b[0;34m,\u001b[0m \u001b[0mfrozen_trial\u001b[0m\u001b[0;34m)\u001b[0m\u001b[0;34m\u001b[0m\u001b[0;34m\u001b[0m\u001b[0m\n\u001b[0m\u001b[1;32m    178\u001b[0m \u001b[0;34m\u001b[0m\u001b[0m\n\u001b[1;32m    179\u001b[0m         \u001b[0;32mif\u001b[0m \u001b[0mprogress_bar\u001b[0m \u001b[0;32mis\u001b[0m \u001b[0;32mnot\u001b[0m \u001b[0;32mNone\u001b[0m\u001b[0;34m:\u001b[0m\u001b[0;34m\u001b[0m\u001b[0;34m\u001b[0m\u001b[0m\n",
      "\u001b[0;32m~/miniconda3/envs/py_37/lib/python3.7/site-packages/neptune_optuna/impl/__init__.py\u001b[0m in \u001b[0;36m__call__\u001b[0;34m(self, study, trial)\u001b[0m\n\u001b[1;32m    136\u001b[0m         \u001b[0mself\u001b[0m\u001b[0;34m.\u001b[0m\u001b[0m_log_trial\u001b[0m\u001b[0;34m(\u001b[0m\u001b[0mtrial\u001b[0m\u001b[0;34m)\u001b[0m\u001b[0;34m\u001b[0m\u001b[0;34m\u001b[0m\u001b[0m\n\u001b[1;32m    137\u001b[0m         \u001b[0mself\u001b[0m\u001b[0;34m.\u001b[0m\u001b[0m_log_trial_distributions\u001b[0m\u001b[0;34m(\u001b[0m\u001b[0mtrial\u001b[0m\u001b[0;34m)\u001b[0m\u001b[0;34m\u001b[0m\u001b[0;34m\u001b[0m\u001b[0m\n\u001b[0;32m--> 138\u001b[0;31m         \u001b[0mself\u001b[0m\u001b[0;34m.\u001b[0m\u001b[0m_log_best_trials\u001b[0m\u001b[0;34m(\u001b[0m\u001b[0mstudy\u001b[0m\u001b[0;34m)\u001b[0m\u001b[0;34m\u001b[0m\u001b[0;34m\u001b[0m\u001b[0m\n\u001b[0m\u001b[1;32m    139\u001b[0m         \u001b[0mself\u001b[0m\u001b[0;34m.\u001b[0m\u001b[0m_log_study_details\u001b[0m\u001b[0;34m(\u001b[0m\u001b[0mstudy\u001b[0m\u001b[0;34m,\u001b[0m \u001b[0mtrial\u001b[0m\u001b[0;34m)\u001b[0m\u001b[0;34m\u001b[0m\u001b[0;34m\u001b[0m\u001b[0m\n\u001b[1;32m    140\u001b[0m         \u001b[0mself\u001b[0m\u001b[0;34m.\u001b[0m\u001b[0m_log_plots\u001b[0m\u001b[0;34m(\u001b[0m\u001b[0mstudy\u001b[0m\u001b[0;34m,\u001b[0m \u001b[0mtrial\u001b[0m\u001b[0;34m)\u001b[0m\u001b[0;34m\u001b[0m\u001b[0;34m\u001b[0m\u001b[0m\n",
      "\u001b[0;32m~/miniconda3/envs/py_37/lib/python3.7/site-packages/neptune_optuna/impl/__init__.py\u001b[0m in \u001b[0;36m_log_best_trials\u001b[0;34m(self, study)\u001b[0m\n\u001b[1;32m    148\u001b[0m \u001b[0;34m\u001b[0m\u001b[0m\n\u001b[1;32m    149\u001b[0m     \u001b[0;32mdef\u001b[0m \u001b[0m_log_best_trials\u001b[0m\u001b[0;34m(\u001b[0m\u001b[0mself\u001b[0m\u001b[0;34m,\u001b[0m \u001b[0mstudy\u001b[0m\u001b[0;34m)\u001b[0m\u001b[0;34m:\u001b[0m\u001b[0;34m\u001b[0m\u001b[0;34m\u001b[0m\u001b[0m\n\u001b[0;32m--> 150\u001b[0;31m         \u001b[0mself\u001b[0m\u001b[0;34m.\u001b[0m\u001b[0mrun\u001b[0m\u001b[0;34m[\u001b[0m\u001b[0;34m'best'\u001b[0m\u001b[0;34m]\u001b[0m \u001b[0;34m=\u001b[0m \u001b[0m_stringify_keys\u001b[0m\u001b[0;34m(\u001b[0m\u001b[0m_log_best_trials\u001b[0m\u001b[0;34m(\u001b[0m\u001b[0mstudy\u001b[0m\u001b[0;34m)\u001b[0m\u001b[0;34m)\u001b[0m\u001b[0;34m\u001b[0m\u001b[0;34m\u001b[0m\u001b[0m\n\u001b[0m\u001b[1;32m    151\u001b[0m \u001b[0;34m\u001b[0m\u001b[0m\n\u001b[1;32m    152\u001b[0m     \u001b[0;32mdef\u001b[0m \u001b[0m_log_study_details\u001b[0m\u001b[0;34m(\u001b[0m\u001b[0mself\u001b[0m\u001b[0;34m,\u001b[0m \u001b[0mstudy\u001b[0m\u001b[0;34m,\u001b[0m \u001b[0mtrial\u001b[0m\u001b[0;34m)\u001b[0m\u001b[0;34m:\u001b[0m\u001b[0;34m\u001b[0m\u001b[0;34m\u001b[0m\u001b[0m\n",
      "\u001b[0;32m~/miniconda3/envs/py_37/lib/python3.7/site-packages/neptune/new/handler.py\u001b[0m in \u001b[0;36m__setitem__\u001b[0;34m(self, key, value)\u001b[0m\n\u001b[1;32m     43\u001b[0m \u001b[0;34m\u001b[0m\u001b[0m\n\u001b[1;32m     44\u001b[0m     \u001b[0;32mdef\u001b[0m \u001b[0m__setitem__\u001b[0m\u001b[0;34m(\u001b[0m\u001b[0mself\u001b[0m\u001b[0;34m,\u001b[0m \u001b[0mkey\u001b[0m\u001b[0;34m:\u001b[0m \u001b[0mstr\u001b[0m\u001b[0;34m,\u001b[0m \u001b[0mvalue\u001b[0m\u001b[0;34m)\u001b[0m \u001b[0;34m->\u001b[0m \u001b[0;32mNone\u001b[0m\u001b[0;34m:\u001b[0m\u001b[0;34m\u001b[0m\u001b[0;34m\u001b[0m\u001b[0m\n\u001b[0;32m---> 45\u001b[0;31m         \u001b[0mself\u001b[0m\u001b[0;34m[\u001b[0m\u001b[0mkey\u001b[0m\u001b[0;34m]\u001b[0m\u001b[0;34m.\u001b[0m\u001b[0massign\u001b[0m\u001b[0;34m(\u001b[0m\u001b[0mvalue\u001b[0m\u001b[0;34m)\u001b[0m\u001b[0;34m\u001b[0m\u001b[0;34m\u001b[0m\u001b[0m\n\u001b[0m\u001b[1;32m     46\u001b[0m \u001b[0;34m\u001b[0m\u001b[0m\n\u001b[1;32m     47\u001b[0m     \u001b[0;32mdef\u001b[0m \u001b[0m__getattr__\u001b[0m\u001b[0;34m(\u001b[0m\u001b[0mself\u001b[0m\u001b[0;34m,\u001b[0m \u001b[0mattribute_name\u001b[0m\u001b[0;34m)\u001b[0m\u001b[0;34m:\u001b[0m\u001b[0;34m\u001b[0m\u001b[0;34m\u001b[0m\u001b[0m\n",
      "\u001b[0;32m~/miniconda3/envs/py_37/lib/python3.7/site-packages/neptune/new/handler.py\u001b[0m in \u001b[0;36massign\u001b[0;34m(self, value, wait)\u001b[0m\n\u001b[1;32m    102\u001b[0m             \u001b[0mattr\u001b[0m \u001b[0;34m=\u001b[0m \u001b[0mself\u001b[0m\u001b[0;34m.\u001b[0m\u001b[0m_run\u001b[0m\u001b[0;34m.\u001b[0m\u001b[0mget_attribute\u001b[0m\u001b[0;34m(\u001b[0m\u001b[0mself\u001b[0m\u001b[0;34m.\u001b[0m\u001b[0m_path\u001b[0m\u001b[0;34m)\u001b[0m\u001b[0;34m\u001b[0m\u001b[0;34m\u001b[0m\u001b[0m\n\u001b[1;32m    103\u001b[0m             \u001b[0;32mif\u001b[0m \u001b[0mattr\u001b[0m\u001b[0;34m:\u001b[0m\u001b[0;34m\u001b[0m\u001b[0;34m\u001b[0m\u001b[0m\n\u001b[0;32m--> 104\u001b[0;31m                 \u001b[0mattr\u001b[0m\u001b[0;34m.\u001b[0m\u001b[0massign\u001b[0m\u001b[0;34m(\u001b[0m\u001b[0mvalue\u001b[0m\u001b[0;34m,\u001b[0m \u001b[0mwait\u001b[0m\u001b[0;34m)\u001b[0m\u001b[0;34m\u001b[0m\u001b[0;34m\u001b[0m\u001b[0m\n\u001b[0m\u001b[1;32m    105\u001b[0m             \u001b[0;32melse\u001b[0m\u001b[0;34m:\u001b[0m\u001b[0;34m\u001b[0m\u001b[0;34m\u001b[0m\u001b[0m\n\u001b[1;32m    106\u001b[0m                 \u001b[0mself\u001b[0m\u001b[0;34m.\u001b[0m\u001b[0m_run\u001b[0m\u001b[0;34m.\u001b[0m\u001b[0mdefine\u001b[0m\u001b[0;34m(\u001b[0m\u001b[0mself\u001b[0m\u001b[0;34m.\u001b[0m\u001b[0m_path\u001b[0m\u001b[0;34m,\u001b[0m \u001b[0mvalue\u001b[0m\u001b[0;34m,\u001b[0m \u001b[0mwait\u001b[0m\u001b[0;34m)\u001b[0m\u001b[0;34m\u001b[0m\u001b[0;34m\u001b[0m\u001b[0m\n",
      "\u001b[0;32m~/miniconda3/envs/py_37/lib/python3.7/site-packages/neptune/new/attributes/namespace.py\u001b[0m in \u001b[0;36massign\u001b[0;34m(self, value, wait)\u001b[0m\n\u001b[1;32m     56\u001b[0m                 \u001b[0mself\u001b[0m\u001b[0;34m[\u001b[0m\u001b[0mk\u001b[0m\u001b[0;34m]\u001b[0m\u001b[0;34m.\u001b[0m\u001b[0massign\u001b[0m\u001b[0;34m(\u001b[0m\u001b[0mv\u001b[0m\u001b[0;34m,\u001b[0m \u001b[0mwait\u001b[0m\u001b[0;34m)\u001b[0m\u001b[0;34m\u001b[0m\u001b[0;34m\u001b[0m\u001b[0m\n\u001b[1;32m     57\u001b[0m             \u001b[0;32melse\u001b[0m\u001b[0;34m:\u001b[0m\u001b[0;34m\u001b[0m\u001b[0;34m\u001b[0m\u001b[0m\n\u001b[0;32m---> 58\u001b[0;31m                 \u001b[0mself\u001b[0m\u001b[0;34m.\u001b[0m\u001b[0m_run\u001b[0m\u001b[0;34m.\u001b[0m\u001b[0mdefine\u001b[0m\u001b[0;34m(\u001b[0m\u001b[0;34mf\"{self._str_path}/{k}\"\u001b[0m\u001b[0;34m,\u001b[0m \u001b[0mv\u001b[0m\u001b[0;34m)\u001b[0m\u001b[0;34m\u001b[0m\u001b[0;34m\u001b[0m\u001b[0m\n\u001b[0m\u001b[1;32m     59\u001b[0m \u001b[0;34m\u001b[0m\u001b[0m\n\u001b[1;32m     60\u001b[0m     \u001b[0;32mdef\u001b[0m \u001b[0m_collect_atom_values\u001b[0m\u001b[0;34m(\u001b[0m\u001b[0mself\u001b[0m\u001b[0;34m,\u001b[0m \u001b[0mattribute_dict\u001b[0m\u001b[0;34m)\u001b[0m \u001b[0;34m->\u001b[0m \u001b[0mdict\u001b[0m\u001b[0;34m:\u001b[0m\u001b[0;34m\u001b[0m\u001b[0;34m\u001b[0m\u001b[0m\n",
      "\u001b[0;32m~/miniconda3/envs/py_37/lib/python3.7/site-packages/neptune/new/run.py\u001b[0m in \u001b[0;36mdefine\u001b[0;34m(self, path, value, wait)\u001b[0m\n\u001b[1;32m    343\u001b[0m             \u001b[0mold_attr\u001b[0m \u001b[0;34m=\u001b[0m \u001b[0mself\u001b[0m\u001b[0;34m.\u001b[0m\u001b[0m_structure\u001b[0m\u001b[0;34m.\u001b[0m\u001b[0mget\u001b[0m\u001b[0;34m(\u001b[0m\u001b[0mparsed_path\u001b[0m\u001b[0;34m)\u001b[0m\u001b[0;34m\u001b[0m\u001b[0;34m\u001b[0m\u001b[0m\n\u001b[1;32m    344\u001b[0m             \u001b[0;32mif\u001b[0m \u001b[0mold_attr\u001b[0m\u001b[0;34m:\u001b[0m\u001b[0;34m\u001b[0m\u001b[0;34m\u001b[0m\u001b[0m\n\u001b[0;32m--> 345\u001b[0;31m                 \u001b[0;32mraise\u001b[0m \u001b[0mMetadataInconsistency\u001b[0m\u001b[0;34m(\u001b[0m\u001b[0;34m\"Attribute or namespace {} is already defined\"\u001b[0m\u001b[0;34m.\u001b[0m\u001b[0mformat\u001b[0m\u001b[0;34m(\u001b[0m\u001b[0mpath\u001b[0m\u001b[0;34m)\u001b[0m\u001b[0;34m)\u001b[0m\u001b[0;34m\u001b[0m\u001b[0;34m\u001b[0m\u001b[0m\n\u001b[0m\u001b[1;32m    346\u001b[0m             \u001b[0mattr\u001b[0m \u001b[0;34m=\u001b[0m \u001b[0mValueToAttributeVisitor\u001b[0m\u001b[0;34m(\u001b[0m\u001b[0mself\u001b[0m\u001b[0;34m,\u001b[0m \u001b[0mparsed_path\u001b[0m\u001b[0;34m)\u001b[0m\u001b[0;34m.\u001b[0m\u001b[0mvisit\u001b[0m\u001b[0;34m(\u001b[0m\u001b[0mvalue\u001b[0m\u001b[0;34m)\u001b[0m\u001b[0;34m\u001b[0m\u001b[0;34m\u001b[0m\u001b[0m\n\u001b[1;32m    347\u001b[0m             \u001b[0mattr\u001b[0m\u001b[0;34m.\u001b[0m\u001b[0massign\u001b[0m\u001b[0;34m(\u001b[0m\u001b[0mvalue\u001b[0m\u001b[0;34m,\u001b[0m \u001b[0mwait\u001b[0m\u001b[0;34m)\u001b[0m\u001b[0;34m\u001b[0m\u001b[0;34m\u001b[0m\u001b[0m\n",
      "\u001b[0;31mMetadataInconsistency\u001b[0m: Attribute or namespace best/trials/0/datetime_start is already defined"
     ]
    }
   ],
   "source": [
    "study = optuna.create_study(direction='maximize')\n",
    "study.optimize(objective, n_trials=100, callbacks=[neptune_callback])"
   ]
  },
  {
   "cell_type": "markdown",
   "metadata": {
    "tags": [
     "comment"
    ]
   },
   "source": [
    "You can view the logging live in the Neptune tab once Optuna you run the below cell"
   ]
  },
  {
   "cell_type": "markdown",
   "metadata": {
    "id": "P04k_nFiXl63",
    "tags": [
     "header"
    ]
   },
   "source": [
    "### Step 4: Stop logging"
   ]
  },
  {
   "cell_type": "markdown",
   "metadata": {
    "tags": [
     "comment"
    ]
   },
   "source": [
    "When you track your ML runs with Neptune in Jupyter notebooks you need to explicitly stop the Run by ```run.stop()```.\n",
    "\n",
    "If you are running Neptune in regular ```.py``` scripts it will stop automatically when your code finishes."
   ]
  },
  {
   "cell_type": "code",
   "execution_count": 16,
   "metadata": {
    "id": "T5teGbiLwuEi",
    "tags": [
     "code"
    ]
   },
   "outputs": [
    {
     "name": "stdout",
     "output_type": "stream",
     "text": [
      "Shutting down background jobs, please wait a moment...\n",
      "Done!\n"
     ]
    },
    {
     "name": "stderr",
     "output_type": "stream",
     "text": [
      "Waiting for the remaining 1 operations to synchronize with Neptune. Do not kill this process.\n"
     ]
    },
    {
     "name": "stdout",
     "output_type": "stream",
     "text": [
      "All 1 operations synced, thanks for waiting!\n"
     ]
    }
   ],
   "source": [
    "run.stop()"
   ]
  },
  {
   "cell_type": "markdown",
   "metadata": {
    "id": "Q9zxE-EzLAbe",
    "tags": [
     "header"
    ]
   },
   "source": [
    "## More Options\n",
    "\n",
    "### Customize which plots you want to log and how often\n",
    "\n",
    "By default `NeptuneCallback` creates and logs all of the plots from `optuna.visualizations` but it adds overhead to your Optuna sweep.\n",
    "\n",
    "You can decide which plots to create and log and how often you want to do that with:\n",
    "* `plot_update_freq` argument: pass integer k to update plots every k trials or 'never' to not log any plots\n",
    "* `log_plot_contour`, `log_plot_slice`, and other `log_{OPTUNA_PLOT_FUNCTION}` arguments: pass 'False' and the plots will not be created or logged "
   ]
  },
  {
   "cell_type": "markdown",
   "metadata": {
    "tags": [
     "comment"
    ]
   },
   "source": [
    "By default `NeptuneCallback` creates and logs all of the plots from `optuna.visualizations` but it adds overhead to your Optuna sweep.\n",
    "\n",
    "You can decide which plots to create and log and how often you want to do that with:\n",
    "* `plot_update_freq` argument: pass integer k to update plots every k trials or 'never' to not log any plots\n",
    "* `log_plot_contour`, `log_plot_slice`, and other `log_{OPTUNA_PLOT_FUNCTION}` arguments: pass 'False' and the plots will not be created or logged "
   ]
  },
  {
   "cell_type": "code",
   "execution_count": 22,
   "metadata": {
    "id": "EcRlqlGNLQ-3",
    "tags": [
     "code"
    ]
   },
   "outputs": [
    {
     "name": "stdout",
     "output_type": "stream",
     "text": [
      "https://app.neptune.ai/common/optuna-integration/e/NEP1-109\n"
     ]
    },
    {
     "name": "stderr",
     "output_type": "stream",
     "text": [
      "\u001b[32m[I 2021-05-21 10:26:51,862]\u001b[0m A new study created in memory with name: no-name-63e8ab26-bd8a-4965-83ec-5e380fe9f999\u001b[0m\n",
      "\u001b[32m[I 2021-05-21 10:26:52,018]\u001b[0m Trial 0 finished with value: 0.9922920892494929 and parameters: {'num_leaves': 35, 'feature_fraction': 0.9583818518915357, 'bagging_fraction': 0.5334911778535456, 'min_child_samples': 38}. Best is trial 0 with value: 0.9922920892494929.\u001b[0m\n",
      "\u001b[32m[I 2021-05-21 10:26:52,186]\u001b[0m Trial 1 finished with value: 0.9987603305785124 and parameters: {'num_leaves': 148, 'feature_fraction': 0.5956982136436998, 'bagging_fraction': 0.986086607980867, 'min_child_samples': 20}. Best is trial 1 with value: 0.9987603305785124.\u001b[0m\n",
      "\u001b[32m[I 2021-05-21 10:26:52,283]\u001b[0m Trial 2 finished with value: 0.9915289256198346 and parameters: {'num_leaves': 157, 'feature_fraction': 0.4184317266747109, 'bagging_fraction': 0.9200950216295636, 'min_child_samples': 34}. Best is trial 1 with value: 0.9987603305785124.\u001b[0m\n"
     ]
    },
    {
     "ename": "MetadataInconsistency",
     "evalue": "Attribute or namespace best/trials/1/datetime_start is already defined",
     "output_type": "error",
     "traceback": [
      "\u001b[0;31m---------------------------------------------------------------------------\u001b[0m",
      "\u001b[0;31mMetadataInconsistency\u001b[0m                     Traceback (most recent call last)",
      "\u001b[0;32m<ipython-input-22-2880c6d67f3d>\u001b[0m in \u001b[0;36m<module>\u001b[0;34m\u001b[0m\n\u001b[1;32m     11\u001b[0m \u001b[0;31m# Pass NeptuneCallback to Optuna Study .optimize()\u001b[0m\u001b[0;34m\u001b[0m\u001b[0;34m\u001b[0m\u001b[0;34m\u001b[0m\u001b[0m\n\u001b[1;32m     12\u001b[0m \u001b[0mstudy\u001b[0m \u001b[0;34m=\u001b[0m \u001b[0moptuna\u001b[0m\u001b[0;34m.\u001b[0m\u001b[0mcreate_study\u001b[0m\u001b[0;34m(\u001b[0m\u001b[0mdirection\u001b[0m\u001b[0;34m=\u001b[0m\u001b[0;34m'maximize'\u001b[0m\u001b[0;34m)\u001b[0m\u001b[0;34m\u001b[0m\u001b[0;34m\u001b[0m\u001b[0m\n\u001b[0;32m---> 13\u001b[0;31m \u001b[0mstudy\u001b[0m\u001b[0;34m.\u001b[0m\u001b[0moptimize\u001b[0m\u001b[0;34m(\u001b[0m\u001b[0mobjective\u001b[0m\u001b[0;34m,\u001b[0m \u001b[0mn_trials\u001b[0m\u001b[0;34m=\u001b[0m\u001b[0;36m50\u001b[0m\u001b[0;34m,\u001b[0m \u001b[0mcallbacks\u001b[0m\u001b[0;34m=\u001b[0m\u001b[0;34m[\u001b[0m\u001b[0mneptune_callback\u001b[0m\u001b[0;34m]\u001b[0m\u001b[0;34m)\u001b[0m\u001b[0;34m\u001b[0m\u001b[0;34m\u001b[0m\u001b[0m\n\u001b[0m\u001b[1;32m     14\u001b[0m \u001b[0;34m\u001b[0m\u001b[0m\n\u001b[1;32m     15\u001b[0m \u001b[0;31m# Stop logging to a Neptune Run\u001b[0m\u001b[0;34m\u001b[0m\u001b[0;34m\u001b[0m\u001b[0;34m\u001b[0m\u001b[0m\n",
      "\u001b[0;32m~/miniconda3/envs/py_37/lib/python3.7/site-packages/optuna/study.py\u001b[0m in \u001b[0;36moptimize\u001b[0;34m(self, func, n_trials, timeout, n_jobs, catch, callbacks, gc_after_trial, show_progress_bar)\u001b[0m\n\u001b[1;32m    407\u001b[0m             \u001b[0mcallbacks\u001b[0m\u001b[0;34m=\u001b[0m\u001b[0mcallbacks\u001b[0m\u001b[0;34m,\u001b[0m\u001b[0;34m\u001b[0m\u001b[0;34m\u001b[0m\u001b[0m\n\u001b[1;32m    408\u001b[0m             \u001b[0mgc_after_trial\u001b[0m\u001b[0;34m=\u001b[0m\u001b[0mgc_after_trial\u001b[0m\u001b[0;34m,\u001b[0m\u001b[0;34m\u001b[0m\u001b[0;34m\u001b[0m\u001b[0m\n\u001b[0;32m--> 409\u001b[0;31m             \u001b[0mshow_progress_bar\u001b[0m\u001b[0;34m=\u001b[0m\u001b[0mshow_progress_bar\u001b[0m\u001b[0;34m,\u001b[0m\u001b[0;34m\u001b[0m\u001b[0;34m\u001b[0m\u001b[0m\n\u001b[0m\u001b[1;32m    410\u001b[0m         )\n\u001b[1;32m    411\u001b[0m \u001b[0;34m\u001b[0m\u001b[0m\n",
      "\u001b[0;32m~/miniconda3/envs/py_37/lib/python3.7/site-packages/optuna/_optimize.py\u001b[0m in \u001b[0;36m_optimize\u001b[0;34m(study, func, n_trials, timeout, n_jobs, catch, callbacks, gc_after_trial, show_progress_bar)\u001b[0m\n\u001b[1;32m     74\u001b[0m                 \u001b[0mreseed_sampler_rng\u001b[0m\u001b[0;34m=\u001b[0m\u001b[0;32mFalse\u001b[0m\u001b[0;34m,\u001b[0m\u001b[0;34m\u001b[0m\u001b[0;34m\u001b[0m\u001b[0m\n\u001b[1;32m     75\u001b[0m                 \u001b[0mtime_start\u001b[0m\u001b[0;34m=\u001b[0m\u001b[0;32mNone\u001b[0m\u001b[0;34m,\u001b[0m\u001b[0;34m\u001b[0m\u001b[0;34m\u001b[0m\u001b[0m\n\u001b[0;32m---> 76\u001b[0;31m                 \u001b[0mprogress_bar\u001b[0m\u001b[0;34m=\u001b[0m\u001b[0mprogress_bar\u001b[0m\u001b[0;34m,\u001b[0m\u001b[0;34m\u001b[0m\u001b[0;34m\u001b[0m\u001b[0m\n\u001b[0m\u001b[1;32m     77\u001b[0m             )\n\u001b[1;32m     78\u001b[0m         \u001b[0;32melse\u001b[0m\u001b[0;34m:\u001b[0m\u001b[0;34m\u001b[0m\u001b[0;34m\u001b[0m\u001b[0m\n",
      "\u001b[0;32m~/miniconda3/envs/py_37/lib/python3.7/site-packages/optuna/_optimize.py\u001b[0m in \u001b[0;36m_optimize_sequential\u001b[0;34m(study, func, n_trials, timeout, catch, callbacks, gc_after_trial, reseed_sampler_rng, time_start, progress_bar)\u001b[0m\n\u001b[1;32m    175\u001b[0m             \u001b[0mfrozen_trial\u001b[0m \u001b[0;34m=\u001b[0m \u001b[0mcopy\u001b[0m\u001b[0;34m.\u001b[0m\u001b[0mdeepcopy\u001b[0m\u001b[0;34m(\u001b[0m\u001b[0mstudy\u001b[0m\u001b[0;34m.\u001b[0m\u001b[0m_storage\u001b[0m\u001b[0;34m.\u001b[0m\u001b[0mget_trial\u001b[0m\u001b[0;34m(\u001b[0m\u001b[0mtrial\u001b[0m\u001b[0;34m.\u001b[0m\u001b[0m_trial_id\u001b[0m\u001b[0;34m)\u001b[0m\u001b[0;34m)\u001b[0m\u001b[0;34m\u001b[0m\u001b[0;34m\u001b[0m\u001b[0m\n\u001b[1;32m    176\u001b[0m             \u001b[0;32mfor\u001b[0m \u001b[0mcallback\u001b[0m \u001b[0;32min\u001b[0m \u001b[0mcallbacks\u001b[0m\u001b[0;34m:\u001b[0m\u001b[0;34m\u001b[0m\u001b[0;34m\u001b[0m\u001b[0m\n\u001b[0;32m--> 177\u001b[0;31m                 \u001b[0mcallback\u001b[0m\u001b[0;34m(\u001b[0m\u001b[0mstudy\u001b[0m\u001b[0;34m,\u001b[0m \u001b[0mfrozen_trial\u001b[0m\u001b[0;34m)\u001b[0m\u001b[0;34m\u001b[0m\u001b[0;34m\u001b[0m\u001b[0m\n\u001b[0m\u001b[1;32m    178\u001b[0m \u001b[0;34m\u001b[0m\u001b[0m\n\u001b[1;32m    179\u001b[0m         \u001b[0;32mif\u001b[0m \u001b[0mprogress_bar\u001b[0m \u001b[0;32mis\u001b[0m \u001b[0;32mnot\u001b[0m \u001b[0;32mNone\u001b[0m\u001b[0;34m:\u001b[0m\u001b[0;34m\u001b[0m\u001b[0;34m\u001b[0m\u001b[0m\n",
      "\u001b[0;32m~/miniconda3/envs/py_37/lib/python3.7/site-packages/neptune_optuna/impl/__init__.py\u001b[0m in \u001b[0;36m__call__\u001b[0;34m(self, study, trial)\u001b[0m\n\u001b[1;32m    136\u001b[0m         \u001b[0mself\u001b[0m\u001b[0;34m.\u001b[0m\u001b[0m_log_trial\u001b[0m\u001b[0;34m(\u001b[0m\u001b[0mtrial\u001b[0m\u001b[0;34m)\u001b[0m\u001b[0;34m\u001b[0m\u001b[0;34m\u001b[0m\u001b[0m\n\u001b[1;32m    137\u001b[0m         \u001b[0mself\u001b[0m\u001b[0;34m.\u001b[0m\u001b[0m_log_trial_distributions\u001b[0m\u001b[0;34m(\u001b[0m\u001b[0mtrial\u001b[0m\u001b[0;34m)\u001b[0m\u001b[0;34m\u001b[0m\u001b[0;34m\u001b[0m\u001b[0m\n\u001b[0;32m--> 138\u001b[0;31m         \u001b[0mself\u001b[0m\u001b[0;34m.\u001b[0m\u001b[0m_log_best_trials\u001b[0m\u001b[0;34m(\u001b[0m\u001b[0mstudy\u001b[0m\u001b[0;34m)\u001b[0m\u001b[0;34m\u001b[0m\u001b[0;34m\u001b[0m\u001b[0m\n\u001b[0m\u001b[1;32m    139\u001b[0m         \u001b[0mself\u001b[0m\u001b[0;34m.\u001b[0m\u001b[0m_log_study_details\u001b[0m\u001b[0;34m(\u001b[0m\u001b[0mstudy\u001b[0m\u001b[0;34m,\u001b[0m \u001b[0mtrial\u001b[0m\u001b[0;34m)\u001b[0m\u001b[0;34m\u001b[0m\u001b[0;34m\u001b[0m\u001b[0m\n\u001b[1;32m    140\u001b[0m         \u001b[0mself\u001b[0m\u001b[0;34m.\u001b[0m\u001b[0m_log_plots\u001b[0m\u001b[0;34m(\u001b[0m\u001b[0mstudy\u001b[0m\u001b[0;34m,\u001b[0m \u001b[0mtrial\u001b[0m\u001b[0;34m)\u001b[0m\u001b[0;34m\u001b[0m\u001b[0;34m\u001b[0m\u001b[0m\n",
      "\u001b[0;32m~/miniconda3/envs/py_37/lib/python3.7/site-packages/neptune_optuna/impl/__init__.py\u001b[0m in \u001b[0;36m_log_best_trials\u001b[0;34m(self, study)\u001b[0m\n\u001b[1;32m    148\u001b[0m \u001b[0;34m\u001b[0m\u001b[0m\n\u001b[1;32m    149\u001b[0m     \u001b[0;32mdef\u001b[0m \u001b[0m_log_best_trials\u001b[0m\u001b[0;34m(\u001b[0m\u001b[0mself\u001b[0m\u001b[0;34m,\u001b[0m \u001b[0mstudy\u001b[0m\u001b[0;34m)\u001b[0m\u001b[0;34m:\u001b[0m\u001b[0;34m\u001b[0m\u001b[0;34m\u001b[0m\u001b[0m\n\u001b[0;32m--> 150\u001b[0;31m         \u001b[0mself\u001b[0m\u001b[0;34m.\u001b[0m\u001b[0mrun\u001b[0m\u001b[0;34m[\u001b[0m\u001b[0;34m'best'\u001b[0m\u001b[0;34m]\u001b[0m \u001b[0;34m=\u001b[0m \u001b[0m_stringify_keys\u001b[0m\u001b[0;34m(\u001b[0m\u001b[0m_log_best_trials\u001b[0m\u001b[0;34m(\u001b[0m\u001b[0mstudy\u001b[0m\u001b[0;34m)\u001b[0m\u001b[0;34m)\u001b[0m\u001b[0;34m\u001b[0m\u001b[0;34m\u001b[0m\u001b[0m\n\u001b[0m\u001b[1;32m    151\u001b[0m \u001b[0;34m\u001b[0m\u001b[0m\n\u001b[1;32m    152\u001b[0m     \u001b[0;32mdef\u001b[0m \u001b[0m_log_study_details\u001b[0m\u001b[0;34m(\u001b[0m\u001b[0mself\u001b[0m\u001b[0;34m,\u001b[0m \u001b[0mstudy\u001b[0m\u001b[0;34m,\u001b[0m \u001b[0mtrial\u001b[0m\u001b[0;34m)\u001b[0m\u001b[0;34m:\u001b[0m\u001b[0;34m\u001b[0m\u001b[0;34m\u001b[0m\u001b[0m\n",
      "\u001b[0;32m~/miniconda3/envs/py_37/lib/python3.7/site-packages/neptune/new/handler.py\u001b[0m in \u001b[0;36m__setitem__\u001b[0;34m(self, key, value)\u001b[0m\n\u001b[1;32m     43\u001b[0m \u001b[0;34m\u001b[0m\u001b[0m\n\u001b[1;32m     44\u001b[0m     \u001b[0;32mdef\u001b[0m \u001b[0m__setitem__\u001b[0m\u001b[0;34m(\u001b[0m\u001b[0mself\u001b[0m\u001b[0;34m,\u001b[0m \u001b[0mkey\u001b[0m\u001b[0;34m:\u001b[0m \u001b[0mstr\u001b[0m\u001b[0;34m,\u001b[0m \u001b[0mvalue\u001b[0m\u001b[0;34m)\u001b[0m \u001b[0;34m->\u001b[0m \u001b[0;32mNone\u001b[0m\u001b[0;34m:\u001b[0m\u001b[0;34m\u001b[0m\u001b[0;34m\u001b[0m\u001b[0m\n\u001b[0;32m---> 45\u001b[0;31m         \u001b[0mself\u001b[0m\u001b[0;34m[\u001b[0m\u001b[0mkey\u001b[0m\u001b[0;34m]\u001b[0m\u001b[0;34m.\u001b[0m\u001b[0massign\u001b[0m\u001b[0;34m(\u001b[0m\u001b[0mvalue\u001b[0m\u001b[0;34m)\u001b[0m\u001b[0;34m\u001b[0m\u001b[0;34m\u001b[0m\u001b[0m\n\u001b[0m\u001b[1;32m     46\u001b[0m \u001b[0;34m\u001b[0m\u001b[0m\n\u001b[1;32m     47\u001b[0m     \u001b[0;32mdef\u001b[0m \u001b[0m__getattr__\u001b[0m\u001b[0;34m(\u001b[0m\u001b[0mself\u001b[0m\u001b[0;34m,\u001b[0m \u001b[0mattribute_name\u001b[0m\u001b[0;34m)\u001b[0m\u001b[0;34m:\u001b[0m\u001b[0;34m\u001b[0m\u001b[0;34m\u001b[0m\u001b[0m\n",
      "\u001b[0;32m~/miniconda3/envs/py_37/lib/python3.7/site-packages/neptune/new/handler.py\u001b[0m in \u001b[0;36massign\u001b[0;34m(self, value, wait)\u001b[0m\n\u001b[1;32m    102\u001b[0m             \u001b[0mattr\u001b[0m \u001b[0;34m=\u001b[0m \u001b[0mself\u001b[0m\u001b[0;34m.\u001b[0m\u001b[0m_run\u001b[0m\u001b[0;34m.\u001b[0m\u001b[0mget_attribute\u001b[0m\u001b[0;34m(\u001b[0m\u001b[0mself\u001b[0m\u001b[0;34m.\u001b[0m\u001b[0m_path\u001b[0m\u001b[0;34m)\u001b[0m\u001b[0;34m\u001b[0m\u001b[0;34m\u001b[0m\u001b[0m\n\u001b[1;32m    103\u001b[0m             \u001b[0;32mif\u001b[0m \u001b[0mattr\u001b[0m\u001b[0;34m:\u001b[0m\u001b[0;34m\u001b[0m\u001b[0;34m\u001b[0m\u001b[0m\n\u001b[0;32m--> 104\u001b[0;31m                 \u001b[0mattr\u001b[0m\u001b[0;34m.\u001b[0m\u001b[0massign\u001b[0m\u001b[0;34m(\u001b[0m\u001b[0mvalue\u001b[0m\u001b[0;34m,\u001b[0m \u001b[0mwait\u001b[0m\u001b[0;34m)\u001b[0m\u001b[0;34m\u001b[0m\u001b[0;34m\u001b[0m\u001b[0m\n\u001b[0m\u001b[1;32m    105\u001b[0m             \u001b[0;32melse\u001b[0m\u001b[0;34m:\u001b[0m\u001b[0;34m\u001b[0m\u001b[0;34m\u001b[0m\u001b[0m\n\u001b[1;32m    106\u001b[0m                 \u001b[0mself\u001b[0m\u001b[0;34m.\u001b[0m\u001b[0m_run\u001b[0m\u001b[0;34m.\u001b[0m\u001b[0mdefine\u001b[0m\u001b[0;34m(\u001b[0m\u001b[0mself\u001b[0m\u001b[0;34m.\u001b[0m\u001b[0m_path\u001b[0m\u001b[0;34m,\u001b[0m \u001b[0mvalue\u001b[0m\u001b[0;34m,\u001b[0m \u001b[0mwait\u001b[0m\u001b[0;34m)\u001b[0m\u001b[0;34m\u001b[0m\u001b[0;34m\u001b[0m\u001b[0m\n",
      "\u001b[0;32m~/miniconda3/envs/py_37/lib/python3.7/site-packages/neptune/new/attributes/namespace.py\u001b[0m in \u001b[0;36massign\u001b[0;34m(self, value, wait)\u001b[0m\n\u001b[1;32m     56\u001b[0m                 \u001b[0mself\u001b[0m\u001b[0;34m[\u001b[0m\u001b[0mk\u001b[0m\u001b[0;34m]\u001b[0m\u001b[0;34m.\u001b[0m\u001b[0massign\u001b[0m\u001b[0;34m(\u001b[0m\u001b[0mv\u001b[0m\u001b[0;34m,\u001b[0m \u001b[0mwait\u001b[0m\u001b[0;34m)\u001b[0m\u001b[0;34m\u001b[0m\u001b[0;34m\u001b[0m\u001b[0m\n\u001b[1;32m     57\u001b[0m             \u001b[0;32melse\u001b[0m\u001b[0;34m:\u001b[0m\u001b[0;34m\u001b[0m\u001b[0;34m\u001b[0m\u001b[0m\n\u001b[0;32m---> 58\u001b[0;31m                 \u001b[0mself\u001b[0m\u001b[0;34m.\u001b[0m\u001b[0m_run\u001b[0m\u001b[0;34m.\u001b[0m\u001b[0mdefine\u001b[0m\u001b[0;34m(\u001b[0m\u001b[0;34mf\"{self._str_path}/{k}\"\u001b[0m\u001b[0;34m,\u001b[0m \u001b[0mv\u001b[0m\u001b[0;34m)\u001b[0m\u001b[0;34m\u001b[0m\u001b[0;34m\u001b[0m\u001b[0m\n\u001b[0m\u001b[1;32m     59\u001b[0m \u001b[0;34m\u001b[0m\u001b[0m\n\u001b[1;32m     60\u001b[0m     \u001b[0;32mdef\u001b[0m \u001b[0m_collect_atom_values\u001b[0m\u001b[0;34m(\u001b[0m\u001b[0mself\u001b[0m\u001b[0;34m,\u001b[0m \u001b[0mattribute_dict\u001b[0m\u001b[0;34m)\u001b[0m \u001b[0;34m->\u001b[0m \u001b[0mdict\u001b[0m\u001b[0;34m:\u001b[0m\u001b[0;34m\u001b[0m\u001b[0;34m\u001b[0m\u001b[0m\n",
      "\u001b[0;32m~/miniconda3/envs/py_37/lib/python3.7/site-packages/neptune/new/run.py\u001b[0m in \u001b[0;36mdefine\u001b[0;34m(self, path, value, wait)\u001b[0m\n\u001b[1;32m    343\u001b[0m             \u001b[0mold_attr\u001b[0m \u001b[0;34m=\u001b[0m \u001b[0mself\u001b[0m\u001b[0;34m.\u001b[0m\u001b[0m_structure\u001b[0m\u001b[0;34m.\u001b[0m\u001b[0mget\u001b[0m\u001b[0;34m(\u001b[0m\u001b[0mparsed_path\u001b[0m\u001b[0;34m)\u001b[0m\u001b[0;34m\u001b[0m\u001b[0;34m\u001b[0m\u001b[0m\n\u001b[1;32m    344\u001b[0m             \u001b[0;32mif\u001b[0m \u001b[0mold_attr\u001b[0m\u001b[0;34m:\u001b[0m\u001b[0;34m\u001b[0m\u001b[0;34m\u001b[0m\u001b[0m\n\u001b[0;32m--> 345\u001b[0;31m                 \u001b[0;32mraise\u001b[0m \u001b[0mMetadataInconsistency\u001b[0m\u001b[0;34m(\u001b[0m\u001b[0;34m\"Attribute or namespace {} is already defined\"\u001b[0m\u001b[0;34m.\u001b[0m\u001b[0mformat\u001b[0m\u001b[0;34m(\u001b[0m\u001b[0mpath\u001b[0m\u001b[0;34m)\u001b[0m\u001b[0;34m)\u001b[0m\u001b[0;34m\u001b[0m\u001b[0;34m\u001b[0m\u001b[0m\n\u001b[0m\u001b[1;32m    346\u001b[0m             \u001b[0mattr\u001b[0m \u001b[0;34m=\u001b[0m \u001b[0mValueToAttributeVisitor\u001b[0m\u001b[0;34m(\u001b[0m\u001b[0mself\u001b[0m\u001b[0;34m,\u001b[0m \u001b[0mparsed_path\u001b[0m\u001b[0;34m)\u001b[0m\u001b[0;34m.\u001b[0m\u001b[0mvisit\u001b[0m\u001b[0;34m(\u001b[0m\u001b[0mvalue\u001b[0m\u001b[0;34m)\u001b[0m\u001b[0;34m\u001b[0m\u001b[0;34m\u001b[0m\u001b[0m\n\u001b[1;32m    347\u001b[0m             \u001b[0mattr\u001b[0m\u001b[0;34m.\u001b[0m\u001b[0massign\u001b[0m\u001b[0;34m(\u001b[0m\u001b[0mvalue\u001b[0m\u001b[0;34m,\u001b[0m \u001b[0mwait\u001b[0m\u001b[0;34m)\u001b[0m\u001b[0;34m\u001b[0m\u001b[0;34m\u001b[0m\u001b[0m\n",
      "\u001b[0;31mMetadataInconsistency\u001b[0m: Attribute or namespace best/trials/1/datetime_start is already defined"
     ]
    }
   ],
   "source": [
    "# Create a Neptune Run\n",
    "run = neptune.init(api_token='ANONYMOUS', project='common/optuna-integration')  # you can pass your credentials here\n",
    "\n",
    "# Create a NeptuneCallback for Optuna\n",
    "neptune_callback = optuna_utils.NeptuneCallback(run,\n",
    "                                                plots_update_freq=10, # create/log plots every 10 trials\n",
    "                                                log_plot_slice=False, # do not create/log plot_slice\n",
    "                                                log_plot_contour=False, # do not create/log plot_contour\n",
    "                                                )\n",
    "\n",
    "# Pass NeptuneCallback to Optuna Study .optimize()\n",
    "study = optuna.create_study(direction='maximize')\n",
    "study.optimize(objective, n_trials=50, callbacks=[neptune_callback])\n",
    "\n",
    "# Stop logging to a Neptune Run\n",
    "run.stop()"
   ]
  },
  {
   "cell_type": "markdown",
   "metadata": {
    "id": "iAJZLVQKL8Dt",
    "tags": [
     "header"
    ]
   },
   "source": [
    "### Log charts and study object after the sweep\n",
    "\n",
    "If you want to log study metadata after the study was finished you can use the `.log_study_metadata`.\n",
    "\n",
    "`.log_study_metadata` logs the same things that  `NeptuneCallback` logs and you can customize what is logged with similar flags. "
   ]
  },
  {
   "cell_type": "code",
   "execution_count": 24,
   "metadata": {
    "id": "Hw_lQq9AL5PR",
    "tags": [
     "code"
    ]
   },
   "outputs": [
    {
     "name": "stdout",
     "output_type": "stream",
     "text": [
      "https://app.neptune.ai/common/optuna-integration/e/NEP1-110\n"
     ]
    },
    {
     "name": "stderr",
     "output_type": "stream",
     "text": [
      "\u001b[32m[I 2021-05-21 10:40:59,643]\u001b[0m A new study created in memory with name: no-name-90401725-86d0-4495-a95d-c1095f2e1a62\u001b[0m\n",
      "\u001b[32m[I 2021-05-21 10:40:59,798]\u001b[0m Trial 0 finished with value: 0.9829614604462474 and parameters: {'num_leaves': 59, 'feature_fraction': 0.8469508681977751, 'bagging_fraction': 0.5124880900926294, 'min_child_samples': 21}. Best is trial 0 with value: 0.9829614604462474.\u001b[0m\n",
      "\u001b[32m[I 2021-05-21 10:40:59,858]\u001b[0m Trial 1 finished with value: 0.991860465116279 and parameters: {'num_leaves': 49, 'feature_fraction': 0.930201852813815, 'bagging_fraction': 0.27941364238065014, 'min_child_samples': 96}. Best is trial 1 with value: 0.991860465116279.\u001b[0m\n",
      "\u001b[32m[I 2021-05-21 10:40:59,922]\u001b[0m Trial 2 finished with value: 0.9913832199546485 and parameters: {'num_leaves': 28, 'feature_fraction': 0.20698658998844552, 'bagging_fraction': 0.7953617478717263, 'min_child_samples': 78}. Best is trial 1 with value: 0.991860465116279.\u001b[0m\n",
      "\u001b[32m[I 2021-05-21 10:40:59,982]\u001b[0m Trial 3 finished with value: 0.996046608406159 and parameters: {'num_leaves': 3, 'feature_fraction': 0.8520985707024387, 'bagging_fraction': 0.606831546074013, 'min_child_samples': 94}. Best is trial 3 with value: 0.996046608406159.\u001b[0m\n",
      "\u001b[32m[I 2021-05-21 10:41:00,053]\u001b[0m Trial 4 finished with value: 0.976118106817195 and parameters: {'num_leaves': 97, 'feature_fraction': 0.2762165258745401, 'bagging_fraction': 0.23458663299314583, 'min_child_samples': 86}. Best is trial 3 with value: 0.996046608406159.\u001b[0m\n",
      "\u001b[32m[I 2021-05-21 10:41:00,124]\u001b[0m Trial 5 finished with value: 0.9935720844811754 and parameters: {'num_leaves': 149, 'feature_fraction': 0.5070400352846509, 'bagging_fraction': 0.8338517445892404, 'min_child_samples': 70}. Best is trial 3 with value: 0.996046608406159.\u001b[0m\n",
      "\u001b[32m[I 2021-05-21 10:41:00,222]\u001b[0m Trial 6 finished with value: 0.9954838709677419 and parameters: {'num_leaves': 250, 'feature_fraction': 0.9415238304669613, 'bagging_fraction': 0.6963952320205286, 'min_child_samples': 59}. Best is trial 3 with value: 0.996046608406159.\u001b[0m\n",
      "\u001b[32m[I 2021-05-21 10:41:00,331]\u001b[0m Trial 7 finished with value: 0.9876248371689101 and parameters: {'num_leaves': 48, 'feature_fraction': 0.9969934012553483, 'bagging_fraction': 0.745699108573084, 'min_child_samples': 89}. Best is trial 3 with value: 0.996046608406159.\u001b[0m\n",
      "\u001b[32m[I 2021-05-21 10:41:00,390]\u001b[0m Trial 8 finished with value: 0.9957393483709274 and parameters: {'num_leaves': 173, 'feature_fraction': 0.6141817794793261, 'bagging_fraction': 0.7536513657943049, 'min_child_samples': 96}. Best is trial 3 with value: 0.996046608406159.\u001b[0m\n",
      "\u001b[32m[I 2021-05-21 10:41:00,452]\u001b[0m Trial 9 finished with value: 0.9978289188015632 and parameters: {'num_leaves': 113, 'feature_fraction': 0.2186202883189978, 'bagging_fraction': 0.2028019728511395, 'min_child_samples': 92}. Best is trial 9 with value: 0.9978289188015632.\u001b[0m\n",
      "\u001b[32m[I 2021-05-21 10:41:00,600]\u001b[0m Trial 10 finished with value: 0.9975877192982456 and parameters: {'num_leaves': 206, 'feature_fraction': 0.3749250923148468, 'bagging_fraction': 0.3905247062970343, 'min_child_samples': 31}. Best is trial 9 with value: 0.9978289188015632.\u001b[0m\n",
      "\u001b[32m[I 2021-05-21 10:41:00,690]\u001b[0m Trial 11 finished with value: 0.9920932168123179 and parameters: {'num_leaves': 222, 'feature_fraction': 0.34545660406022993, 'bagging_fraction': 0.40472155855154873, 'min_child_samples': 27}. Best is trial 9 with value: 0.9978289188015632.\u001b[0m\n",
      "\u001b[32m[I 2021-05-21 10:41:00,772]\u001b[0m Trial 12 finished with value: 0.9955375253549695 and parameters: {'num_leaves': 190, 'feature_fraction': 0.42232619205943167, 'bagging_fraction': 0.9940360674137755, 'min_child_samples': 40}. Best is trial 9 with value: 0.9978289188015632.\u001b[0m\n",
      "\u001b[32m[I 2021-05-21 10:41:00,994]\u001b[0m Trial 13 finished with value: 0.9945520581113803 and parameters: {'num_leaves': 112, 'feature_fraction': 0.6405728238371458, 'bagging_fraction': 0.35311409408105326, 'min_child_samples': 3}. Best is trial 9 with value: 0.9978289188015632.\u001b[0m\n",
      "\u001b[32m[I 2021-05-21 10:41:01,065]\u001b[0m Trial 14 finished with value: 0.9831460674157303 and parameters: {'num_leaves': 131, 'feature_fraction': 0.23323630277258375, 'bagging_fraction': 0.20824543315487304, 'min_child_samples': 47}. Best is trial 9 with value: 0.9978289188015632.\u001b[0m\n",
      "\u001b[32m[I 2021-05-21 10:41:01,254]\u001b[0m Trial 15 finished with value: 0.9962809917355371 and parameters: {'num_leaves': 214, 'feature_fraction': 0.3846010910774399, 'bagging_fraction': 0.45907602630188715, 'min_child_samples': 12}. Best is trial 9 with value: 0.9978289188015632.\u001b[0m\n",
      "\u001b[32m[I 2021-05-21 10:41:01,326]\u001b[0m Trial 16 finished with value: 0.9929006085192698 and parameters: {'num_leaves': 89, 'feature_fraction': 0.4999001812802063, 'bagging_fraction': 0.3340411310921688, 'min_child_samples': 37}. Best is trial 9 with value: 0.9978289188015632.\u001b[0m\n",
      "\u001b[32m[I 2021-05-21 10:41:01,389]\u001b[0m Trial 17 finished with value: 0.9798168955472326 and parameters: {'num_leaves': 148, 'feature_fraction': 0.3156739764807203, 'bagging_fraction': 0.5242619406727862, 'min_child_samples': 59}. Best is trial 9 with value: 0.9978289188015632.\u001b[0m\n",
      "\u001b[32m[I 2021-05-21 10:41:01,465]\u001b[0m Trial 18 finished with value: 0.9875268817204301 and parameters: {'num_leaves': 254, 'feature_fraction': 0.20066839954128923, 'bagging_fraction': 0.26973101982159053, 'min_child_samples': 29}. Best is trial 9 with value: 0.9978289188015632.\u001b[0m\n",
      "\u001b[32m[I 2021-05-21 10:41:01,594]\u001b[0m Trial 19 finished with value: 0.9967545638945233 and parameters: {'num_leaves': 178, 'feature_fraction': 0.7085338242816182, 'bagging_fraction': 0.382758822535623, 'min_child_samples': 9}. Best is trial 9 with value: 0.9978289188015632.\u001b[0m\n",
      "\u001b[32m[I 2021-05-21 10:41:01,666]\u001b[0m Trial 20 finished with value: 0.9887550200803213 and parameters: {'num_leaves': 78, 'feature_fraction': 0.4579618125103306, 'bagging_fraction': 0.6125968773530407, 'min_child_samples': 51}. Best is trial 9 with value: 0.9978289188015632.\u001b[0m\n",
      "\u001b[32m[I 2021-05-21 10:41:01,796]\u001b[0m Trial 21 finished with value: 0.9793961648306814 and parameters: {'num_leaves': 189, 'feature_fraction': 0.731665558915833, 'bagging_fraction': 0.41057178354485147, 'min_child_samples': 10}. Best is trial 9 with value: 0.9978289188015632.\u001b[0m\n",
      "\u001b[32m[I 2021-05-21 10:41:01,905]\u001b[0m Trial 22 finished with value: 0.9968553459119497 and parameters: {'num_leaves': 219, 'feature_fraction': 0.724935440271774, 'bagging_fraction': 0.3245938298687855, 'min_child_samples': 17}. Best is trial 9 with value: 0.9978289188015632.\u001b[0m\n",
      "\u001b[32m[I 2021-05-21 10:41:02,008]\u001b[0m Trial 23 finished with value: 0.989727463312369 and parameters: {'num_leaves': 230, 'feature_fraction': 0.7542204780477733, 'bagging_fraction': 0.20318420043586044, 'min_child_samples': 20}. Best is trial 9 with value: 0.9978289188015632.\u001b[0m\n",
      "\u001b[32m[I 2021-05-21 10:41:02,104]\u001b[0m Trial 24 finished with value: 0.9776378636561007 and parameters: {'num_leaves': 206, 'feature_fraction': 0.6597593185074193, 'bagging_fraction': 0.3152529831259027, 'min_child_samples': 37}. Best is trial 9 with value: 0.9978289188015632.\u001b[0m\n",
      "\u001b[32m[I 2021-05-21 10:41:02,207]\u001b[0m Trial 25 finished with value: 0.9920440636474908 and parameters: {'num_leaves': 162, 'feature_fraction': 0.5360782897086334, 'bagging_fraction': 0.4571298470531566, 'min_child_samples': 27}. Best is trial 9 with value: 0.9978289188015632.\u001b[0m\n",
      "\u001b[32m[I 2021-05-21 10:41:02,302]\u001b[0m Trial 26 finished with value: 1.0 and parameters: {'num_leaves': 243, 'feature_fraction': 0.2809040503624947, 'bagging_fraction': 0.26678179428708393, 'min_child_samples': 19}. Best is trial 26 with value: 1.0.\u001b[0m\n",
      "\u001b[32m[I 2021-05-21 10:41:02,493]\u001b[0m Trial 27 finished with value: 0.9884297520661157 and parameters: {'num_leaves': 242, 'feature_fraction': 0.2739808830632734, 'bagging_fraction': 0.20450551759147584, 'min_child_samples': 4}. Best is trial 26 with value: 1.0.\u001b[0m\n",
      "\u001b[32m[I 2021-05-21 10:41:02,576]\u001b[0m Trial 28 finished with value: 0.9906367041198502 and parameters: {'num_leaves': 121, 'feature_fraction': 0.3594062832015067, 'bagging_fraction': 0.2618362309410564, 'min_child_samples': 42}. Best is trial 26 with value: 1.0.\u001b[0m\n",
      "\u001b[32m[I 2021-05-21 10:41:02,707]\u001b[0m Trial 29 finished with value: 0.9889023405972559 and parameters: {'num_leaves': 142, 'feature_fraction': 0.26501820354536976, 'bagging_fraction': 0.4642284994166732, 'min_child_samples': 30}. Best is trial 26 with value: 1.0.\u001b[0m\n",
      "\u001b[32m[I 2021-05-21 10:41:02,780]\u001b[0m Trial 30 finished with value: 0.9898580121703854 and parameters: {'num_leaves': 72, 'feature_fraction': 0.4104567447132633, 'bagging_fraction': 0.5321603896193657, 'min_child_samples': 59}. Best is trial 26 with value: 1.0.\u001b[0m\n",
      "\u001b[32m[I 2021-05-21 10:41:02,902]\u001b[0m Trial 31 finished with value: 0.9947168216398985 and parameters: {'num_leaves': 237, 'feature_fraction': 0.795549315744416, 'bagging_fraction': 0.3020498100253298, 'min_child_samples': 18}. Best is trial 26 with value: 1.0.\u001b[0m\n",
      "\u001b[32m[I 2021-05-21 10:41:03,010]\u001b[0m Trial 32 finished with value: 0.9993351063829787 and parameters: {'num_leaves': 192, 'feature_fraction': 0.5774971997763679, 'bagging_fraction': 0.3636968737373903, 'min_child_samples': 17}. Best is trial 26 with value: 1.0.\u001b[0m\n",
      "\u001b[32m[I 2021-05-21 10:41:03,107]\u001b[0m Trial 33 finished with value: 0.9866828087167071 and parameters: {'num_leaves': 196, 'feature_fraction': 0.5486432241275112, 'bagging_fraction': 0.25310741425333466, 'min_child_samples': 23}. Best is trial 26 with value: 1.0.\u001b[0m\n",
      "\u001b[32m[I 2021-05-21 10:41:03,207]\u001b[0m Trial 34 finished with value: 0.9954407294832827 and parameters: {'num_leaves': 166, 'feature_fraction': 0.3153194791124847, 'bagging_fraction': 0.37349861381213906, 'min_child_samples': 15}. Best is trial 26 with value: 1.0.\u001b[0m\n",
      "\u001b[32m[I 2021-05-21 10:41:03,286]\u001b[0m Trial 35 finished with value: 0.9885964912280701 and parameters: {'num_leaves': 204, 'feature_fraction': 0.20512684552672575, 'bagging_fraction': 0.5647166635677606, 'min_child_samples': 35}. Best is trial 26 with value: 1.0.\u001b[0m\n",
      "\u001b[32m[I 2021-05-21 10:41:03,373]\u001b[0m Trial 36 finished with value: 0.9959432048681541 and parameters: {'num_leaves': 105, 'feature_fraction': 0.44871584982280377, 'bagging_fraction': 0.42501748291907615, 'min_child_samples': 73}. Best is trial 26 with value: 1.0.\u001b[0m\n",
      "\u001b[32m[I 2021-05-21 10:41:03,516]\u001b[0m Trial 37 finished with value: 0.9960106382978723 and parameters: {'num_leaves': 126, 'feature_fraction': 0.2469502847773533, 'bagging_fraction': 0.2887742121988989, 'min_child_samples': 7}. Best is trial 26 with value: 1.0.\u001b[0m\n",
      "\u001b[32m[I 2021-05-21 10:41:03,611]\u001b[0m Trial 38 finished with value: 0.9895833333333333 and parameters: {'num_leaves': 251, 'feature_fraction': 0.3010431364625779, 'bagging_fraction': 0.2354828549429753, 'min_child_samples': 24}. Best is trial 26 with value: 1.0.\u001b[0m\n",
      "\u001b[32m[I 2021-05-21 10:41:03,720]\u001b[0m Trial 39 finished with value: 0.9971775944420321 and parameters: {'num_leaves': 180, 'feature_fraction': 0.5697103308667286, 'bagging_fraction': 0.6570865505764945, 'min_child_samples': 14}. Best is trial 26 with value: 1.0.\u001b[0m\n",
      "\u001b[32m[I 2021-05-21 10:41:03,798]\u001b[0m Trial 40 finished with value: 0.9980980557903635 and parameters: {'num_leaves': 12, 'feature_fraction': 0.48992340703397985, 'bagging_fraction': 0.3518953525258314, 'min_child_samples': 32}. Best is trial 26 with value: 1.0.\u001b[0m\n",
      "\u001b[32m[I 2021-05-21 10:41:03,946]\u001b[0m Trial 41 finished with value: 0.9974640743871513 and parameters: {'num_leaves': 12, 'feature_fraction': 0.4790418691363301, 'bagging_fraction': 0.36918079779248447, 'min_child_samples': 32}. Best is trial 26 with value: 1.0.\u001b[0m\n",
      "\u001b[32m[I 2021-05-21 10:41:04,080]\u001b[0m Trial 42 finished with value: 0.9899598393574297 and parameters: {'num_leaves': 50, 'feature_fraction': 0.5910112529922065, 'bagging_fraction': 0.288758020035083, 'min_child_samples': 45}. Best is trial 26 with value: 1.0.\u001b[0m\n",
      "\u001b[32m[I 2021-05-21 10:41:04,184]\u001b[0m Trial 43 finished with value: 0.9911827956989248 and parameters: {'num_leaves': 226, 'feature_fraction': 0.3713752724688829, 'bagging_fraction': 0.35063183710332935, 'min_child_samples': 23}. Best is trial 26 with value: 1.0.\u001b[0m\n",
      "\u001b[32m[I 2021-05-21 10:41:04,240]\u001b[0m Trial 44 finished with value: 0.9978096375945839 and parameters: {'num_leaves': 28, 'feature_fraction': 0.4039263178425432, 'bagging_fraction': 0.2296701560432624, 'min_child_samples': 86}. Best is trial 26 with value: 1.0.\u001b[0m\n",
      "\u001b[32m[I 2021-05-21 10:41:04,297]\u001b[0m Trial 45 finished with value: 0.9882535460992907 and parameters: {'num_leaves': 21, 'feature_fraction': 0.4310113830953621, 'bagging_fraction': 0.20605821103594232, 'min_child_samples': 100}. Best is trial 26 with value: 1.0.\u001b[0m\n",
      "\u001b[32m[I 2021-05-21 10:41:04,396]\u001b[0m Trial 46 finished with value: 0.991727199354318 and parameters: {'num_leaves': 34, 'feature_fraction': 0.5299475410058379, 'bagging_fraction': 0.23629537097312014, 'min_child_samples': 84}. Best is trial 26 with value: 1.0.\u001b[0m\n",
      "\u001b[32m[I 2021-05-21 10:41:04,466]\u001b[0m Trial 47 finished with value: 0.9872254594352309 and parameters: {'num_leaves': 2, 'feature_fraction': 0.4963945286842476, 'bagging_fraction': 0.8756159842607913, 'min_child_samples': 90}. Best is trial 26 with value: 1.0.\u001b[0m\n",
      "\u001b[32m[I 2021-05-21 10:41:04,570]\u001b[0m Trial 48 finished with value: 0.9991677070328756 and parameters: {'num_leaves': 35, 'feature_fraction': 0.6209304000344862, 'bagging_fraction': 0.20035238960201243, 'min_child_samples': 82}. Best is trial 26 with value: 1.0.\u001b[0m\n",
      "\u001b[32m[I 2021-05-21 10:41:04,639]\u001b[0m Trial 49 finished with value: 0.9841504649196957 and parameters: {'num_leaves': 52, 'feature_fraction': 0.6709037462980437, 'bagging_fraction': 0.4821358729622406, 'min_child_samples': 77}. Best is trial 26 with value: 1.0.\u001b[0m\n",
      "\u001b[32m[I 2021-05-21 10:41:04,698]\u001b[0m Trial 50 finished with value: 0.9947368421052631 and parameters: {'num_leaves': 65, 'feature_fraction': 0.6080750396837571, 'bagging_fraction': 0.32592323940567075, 'min_child_samples': 99}. Best is trial 26 with value: 1.0.\u001b[0m\n",
      "\u001b[32m[I 2021-05-21 10:41:04,765]\u001b[0m Trial 51 finished with value: 0.9837006427915519 and parameters: {'num_leaves': 36, 'feature_fraction': 0.5891333954134306, 'bagging_fraction': 0.2006933880723813, 'min_child_samples': 81}. Best is trial 26 with value: 1.0.\u001b[0m\n",
      "\u001b[32m[I 2021-05-21 10:41:04,844]\u001b[0m Trial 52 finished with value: 0.9955120359037128 and parameters: {'num_leaves': 29, 'feature_fraction': 0.4013466596430688, 'bagging_fraction': 0.23504655168590993, 'min_child_samples': 92}. Best is trial 26 with value: 1.0.\u001b[0m\n",
      "\u001b[32m[I 2021-05-21 10:41:04,945]\u001b[0m Trial 53 finished with value: 0.9987421383647799 and parameters: {'num_leaves': 12, 'feature_fraction': 0.6318636892644717, 'bagging_fraction': 0.26930036339390595, 'min_child_samples': 68}. Best is trial 26 with value: 1.0.\u001b[0m\n",
      "\u001b[32m[I 2021-05-21 10:41:05,084]\u001b[0m Trial 54 finished with value: 0.9969574036511155 and parameters: {'num_leaves': 12, 'feature_fraction': 0.6353210721531063, 'bagging_fraction': 0.2794309349111941, 'min_child_samples': 65}. Best is trial 26 with value: 1.0.\u001b[0m\n",
      "\u001b[32m[I 2021-05-21 10:41:05,173]\u001b[0m Trial 55 finished with value: 0.9971440228478172 and parameters: {'num_leaves': 13, 'feature_fraction': 0.6833487884394022, 'bagging_fraction': 0.3457690414426155, 'min_child_samples': 68}. Best is trial 26 with value: 1.0.\u001b[0m\n",
      "\u001b[32m[I 2021-05-21 10:41:05,304]\u001b[0m Trial 56 finished with value: 0.9878968253968254 and parameters: {'num_leaves': 84, 'feature_fraction': 0.691474180194803, 'bagging_fraction': 0.2586822512105605, 'min_child_samples': 76}. Best is trial 26 with value: 1.0.\u001b[0m\n",
      "\u001b[32m[I 2021-05-21 10:41:05,383]\u001b[0m Trial 57 finished with value: 0.9880503144654088 and parameters: {'num_leaves': 44, 'feature_fraction': 0.8668265287579098, 'bagging_fraction': 0.43821610193081006, 'min_child_samples': 81}. Best is trial 26 with value: 1.0.\u001b[0m\n",
      "\u001b[32m[I 2021-05-21 10:41:05,509]\u001b[0m Trial 58 finished with value: 0.9947261663286003 and parameters: {'num_leaves': 4, 'feature_fraction': 0.6452233907600485, 'bagging_fraction': 0.2996797805984108, 'min_child_samples': 95}. Best is trial 26 with value: 1.0.\u001b[0m\n",
      "\u001b[32m[I 2021-05-21 10:41:05,610]\u001b[0m Trial 59 finished with value: 0.9966457023060796 and parameters: {'num_leaves': 21, 'feature_fraction': 0.5701307764484513, 'bagging_fraction': 0.4010954404305105, 'min_child_samples': 49}. Best is trial 26 with value: 1.0.\u001b[0m\n",
      "\u001b[32m[I 2021-05-21 10:41:05,777]\u001b[0m Trial 60 finished with value: 0.9863321093431252 and parameters: {'num_leaves': 101, 'feature_fraction': 0.7652124967661751, 'bagging_fraction': 0.31003620784788416, 'min_child_samples': 55}. Best is trial 26 with value: 1.0.\u001b[0m\n",
      "\u001b[32m[I 2021-05-21 10:41:05,890]\u001b[0m Trial 61 finished with value: 0.9845853234910985 and parameters: {'num_leaves': 2, 'feature_fraction': 0.22890390562129026, 'bagging_fraction': 0.22323140167856648, 'min_child_samples': 87}. Best is trial 26 with value: 1.0.\u001b[0m\n",
      "\u001b[32m[I 2021-05-21 10:41:06,076]\u001b[0m Trial 62 finished with value: 0.9945900957136913 and parameters: {'num_leaves': 60, 'feature_fraction': 0.6203512191709837, 'bagging_fraction': 0.2534294682097708, 'min_child_samples': 73}. Best is trial 26 with value: 1.0.\u001b[0m\n",
      "\u001b[32m[I 2021-05-21 10:41:06,176]\u001b[0m Trial 63 finished with value: 0.9965899403239558 and parameters: {'num_leaves': 22, 'feature_fraction': 0.34095155774760344, 'bagging_fraction': 0.22808066577532912, 'min_child_samples': 84}. Best is trial 26 with value: 1.0.\u001b[0m\n",
      "\u001b[32m[I 2021-05-21 10:41:06,357]\u001b[0m Trial 64 finished with value: 0.9997933884297521 and parameters: {'num_leaves': 40, 'feature_fraction': 0.5173287877794545, 'bagging_fraction': 0.2760793379058479, 'min_child_samples': 65}. Best is trial 26 with value: 1.0.\u001b[0m\n",
      "\u001b[32m[I 2021-05-21 10:41:06,558]\u001b[0m Trial 65 finished with value: 0.985632183908046 and parameters: {'num_leaves': 40, 'feature_fraction': 0.5451728608917628, 'bagging_fraction': 0.26772400060860424, 'min_child_samples': 63}. Best is trial 26 with value: 1.0.\u001b[0m\n",
      "\u001b[32m[I 2021-05-21 10:41:06,667]\u001b[0m Trial 66 finished with value: 0.9982795698924731 and parameters: {'num_leaves': 139, 'feature_fraction': 0.5126437647042391, 'bagging_fraction': 0.3363923051578296, 'min_child_samples': 66}. Best is trial 26 with value: 1.0.\u001b[0m\n",
      "\u001b[32m[I 2021-05-21 10:41:06,747]\u001b[0m Trial 67 finished with value: 0.9919678714859438 and parameters: {'num_leaves': 143, 'feature_fraction': 0.5178022919671665, 'bagging_fraction': 0.3591026235806266, 'min_child_samples': 61}. Best is trial 26 with value: 1.0.\u001b[0m\n",
      "\u001b[32m[I 2021-05-21 10:41:06,843]\u001b[0m Trial 68 finished with value: 0.9915662650602409 and parameters: {'num_leaves': 137, 'feature_fraction': 0.578305536406488, 'bagging_fraction': 0.33750645873885604, 'min_child_samples': 54}. Best is trial 26 with value: 1.0.\u001b[0m\n",
      "\u001b[32m[I 2021-05-21 10:41:06,910]\u001b[0m Trial 69 finished with value: 0.9991397849462365 and parameters: {'num_leaves': 161, 'feature_fraction': 0.4812573882114548, 'bagging_fraction': 0.4971505827750643, 'min_child_samples': 69}. Best is trial 26 with value: 1.0.\u001b[0m\n",
      "\u001b[32m[I 2021-05-21 10:41:06,975]\u001b[0m Trial 70 finished with value: 0.9984649122807018 and parameters: {'num_leaves': 154, 'feature_fraction': 0.46555123690158723, 'bagging_fraction': 0.38692277686882426, 'min_child_samples': 72}. Best is trial 26 with value: 1.0.\u001b[0m\n",
      "\u001b[32m[I 2021-05-21 10:41:07,054]\u001b[0m Trial 71 finished with value: 0.9852366478506296 and parameters: {'num_leaves': 157, 'feature_fraction': 0.4730640990634247, 'bagging_fraction': 0.49080231858281803, 'min_child_samples': 68}. Best is trial 26 with value: 1.0.\u001b[0m\n",
      "\u001b[32m[I 2021-05-21 10:41:07,132]\u001b[0m Trial 72 finished with value: 0.986815415821501 and parameters: {'num_leaves': 158, 'feature_fraction': 0.45767551927645783, 'bagging_fraction': 0.425081793225353, 'min_child_samples': 73}. Best is trial 26 with value: 1.0.\u001b[0m\n",
      "\u001b[32m[I 2021-05-21 10:41:07,198]\u001b[0m Trial 73 finished with value: 0.998279569892473 and parameters: {'num_leaves': 152, 'feature_fraction': 0.5507971132693125, 'bagging_fraction': 0.3828068848169235, 'min_child_samples': 67}. Best is trial 26 with value: 1.0.\u001b[0m\n",
      "\u001b[32m[I 2021-05-21 10:41:07,284]\u001b[0m Trial 74 finished with value: 1.0 and parameters: {'num_leaves': 170, 'feature_fraction': 0.5114005848282912, 'bagging_fraction': 0.54044413017347, 'min_child_samples': 64}. Best is trial 26 with value: 1.0.\u001b[0m\n",
      "\u001b[32m[I 2021-05-21 10:41:07,365]\u001b[0m Trial 75 finished with value: 0.9995838535164379 and parameters: {'num_leaves': 169, 'feature_fraction': 0.4357367105248788, 'bagging_fraction': 0.5741076951635462, 'min_child_samples': 71}. Best is trial 26 with value: 1.0.\u001b[0m\n",
      "\u001b[32m[I 2021-05-21 10:41:07,456]\u001b[0m Trial 76 finished with value: 0.996694214876033 and parameters: {'num_leaves': 177, 'feature_fraction': 0.4383487087966829, 'bagging_fraction': 0.586623487960955, 'min_child_samples': 57}. Best is trial 26 with value: 1.0.\u001b[0m\n",
      "\u001b[32m[I 2021-05-21 10:41:07,533]\u001b[0m Trial 77 finished with value: 0.9983093829247676 and parameters: {'num_leaves': 169, 'feature_fraction': 0.6253567637399726, 'bagging_fraction': 0.5420549481868789, 'min_child_samples': 70}. Best is trial 26 with value: 1.0.\u001b[0m\n",
      "\u001b[32m[I 2021-05-21 10:41:07,623]\u001b[0m Trial 78 finished with value: 0.9912617220801364 and parameters: {'num_leaves': 189, 'feature_fraction': 0.564709601825227, 'bagging_fraction': 0.6388998160112203, 'min_child_samples': 63}. Best is trial 26 with value: 1.0.\u001b[0m\n",
      "\u001b[32m[I 2021-05-21 10:41:07,701]\u001b[0m Trial 79 finished with value: 0.9754860524091293 and parameters: {'num_leaves': 171, 'feature_fraction': 0.599565611378065, 'bagging_fraction': 0.5675689855959558, 'min_child_samples': 80}. Best is trial 26 with value: 1.0.\u001b[0m\n",
      "\u001b[32m[I 2021-05-21 10:41:07,790]\u001b[0m Trial 80 finished with value: 1.0 and parameters: {'num_leaves': 196, 'feature_fraction': 0.5290051403288376, 'bagging_fraction': 0.5185369316910106, 'min_child_samples': 62}. Best is trial 26 with value: 1.0.\u001b[0m\n",
      "\u001b[32m[I 2021-05-21 10:41:07,894]\u001b[0m Trial 81 finished with value: 0.9971187943262412 and parameters: {'num_leaves': 198, 'feature_fraction': 0.5148410968900826, 'bagging_fraction': 0.5457249866693158, 'min_child_samples': 70}. Best is trial 26 with value: 1.0.\u001b[0m\n",
      "\u001b[32m[I 2021-05-21 10:41:07,980]\u001b[0m Trial 82 finished with value: 0.9893882646691635 and parameters: {'num_leaves': 185, 'feature_fraction': 0.6573116590434106, 'bagging_fraction': 0.5080765411496153, 'min_child_samples': 61}. Best is trial 26 with value: 1.0.\u001b[0m\n",
      "\u001b[32m[I 2021-05-21 10:41:08,070]\u001b[0m Trial 83 finished with value: 0.9808572617561382 and parameters: {'num_leaves': 212, 'feature_fraction': 0.4911175597147306, 'bagging_fraction': 0.628024200536205, 'min_child_samples': 75}. Best is trial 26 with value: 1.0.\u001b[0m\n",
      "\u001b[32m[I 2021-05-21 10:41:08,149]\u001b[0m Trial 84 finished with value: 0.9978070175438597 and parameters: {'num_leaves': 164, 'feature_fraction': 0.5338327618693163, 'bagging_fraction': 0.5126113171931348, 'min_child_samples': 64}. Best is trial 26 with value: 1.0.\u001b[0m\n",
      "\u001b[32m[I 2021-05-21 10:41:08,243]\u001b[0m Trial 85 finished with value: 0.9910750507099391 and parameters: {'num_leaves': 197, 'feature_fraction': 0.5257908329744135, 'bagging_fraction': 0.6681247972954585, 'min_child_samples': 57}. Best is trial 26 with value: 1.0.\u001b[0m\n",
      "\u001b[32m[I 2021-05-21 10:41:08,315]\u001b[0m Trial 86 finished with value: 0.9888429752066116 and parameters: {'num_leaves': 181, 'feature_fraction': 0.5513725062920607, 'bagging_fraction': 0.5803129432643851, 'min_child_samples': 61}. Best is trial 26 with value: 1.0.\u001b[0m\n",
      "\u001b[32m[I 2021-05-21 10:41:08,398]\u001b[0m Trial 87 finished with value: 0.980503144654088 and parameters: {'num_leaves': 174, 'feature_fraction': 0.4226322000770566, 'bagging_fraction': 0.4971245582566865, 'min_child_samples': 79}. Best is trial 26 with value: 1.0.\u001b[0m\n",
      "\u001b[32m[I 2021-05-21 10:41:08,489]\u001b[0m Trial 88 finished with value: 0.9918032786885246 and parameters: {'num_leaves': 243, 'feature_fraction': 0.6003076226371465, 'bagging_fraction': 0.5997116539026182, 'min_child_samples': 52}. Best is trial 26 with value: 1.0.\u001b[0m\n",
      "\u001b[32m[I 2021-05-21 10:41:08,560]\u001b[0m Trial 89 finished with value: 0.9986842105263158 and parameters: {'num_leaves': 211, 'feature_fraction': 0.5048126258870133, 'bagging_fraction': 0.46686672404015406, 'min_child_samples': 70}. Best is trial 26 with value: 1.0.\u001b[0m\n",
      "\u001b[32m[I 2021-05-21 10:41:08,637]\u001b[0m Trial 90 finished with value: 0.9924731182795699 and parameters: {'num_leaves': 219, 'feature_fraction': 0.5801218183488678, 'bagging_fraction': 0.7077736801428276, 'min_child_samples': 59}. Best is trial 26 with value: 1.0.\u001b[0m\n",
      "\u001b[32m[I 2021-05-21 10:41:08,728]\u001b[0m Trial 91 finished with value: 1.0 and parameters: {'num_leaves': 192, 'feature_fraction': 0.4831397613447808, 'bagging_fraction': 0.4699439742045967, 'min_child_samples': 70}. Best is trial 26 with value: 1.0.\u001b[0m\n",
      "\u001b[32m[I 2021-05-21 10:41:08,811]\u001b[0m Trial 92 finished with value: 0.9997982243744956 and parameters: {'num_leaves': 202, 'feature_fraction': 0.48611492299248543, 'bagging_fraction': 0.5480440391864031, 'min_child_samples': 75}. Best is trial 26 with value: 1.0.\u001b[0m\n",
      "\u001b[32m[I 2021-05-21 10:41:08,925]\u001b[0m Trial 93 finished with value: 0.9862637362637363 and parameters: {'num_leaves': 193, 'feature_fraction': 0.47642110580388997, 'bagging_fraction': 0.523325918197303, 'min_child_samples': 75}. Best is trial 26 with value: 1.0.\u001b[0m\n",
      "\u001b[32m[I 2021-05-21 10:41:09,005]\u001b[0m Trial 94 finished with value: 0.9834381551362683 and parameters: {'num_leaves': 203, 'feature_fraction': 0.4459389898300111, 'bagging_fraction': 0.553701976720791, 'min_child_samples': 78}. Best is trial 26 with value: 1.0.\u001b[0m\n",
      "\u001b[32m[I 2021-05-21 10:41:09,132]\u001b[0m Trial 95 finished with value: 0.9930213464696224 and parameters: {'num_leaves': 230, 'feature_fraction': 0.49514931212214863, 'bagging_fraction': 0.45103844474546495, 'min_child_samples': 83}. Best is trial 26 with value: 1.0.\u001b[0m\n",
      "\u001b[32m[I 2021-05-21 10:41:09,212]\u001b[0m Trial 96 finished with value: 0.9811743612729718 and parameters: {'num_leaves': 181, 'feature_fraction': 0.4829481257745798, 'bagging_fraction': 0.5288717120971504, 'min_child_samples': 71}. Best is trial 26 with value: 1.0.\u001b[0m\n",
      "\u001b[32m[I 2021-05-21 10:41:09,285]\u001b[0m Trial 97 finished with value: 0.998587570621469 and parameters: {'num_leaves': 202, 'feature_fraction': 0.3942454797740236, 'bagging_fraction': 0.5718714411453409, 'min_child_samples': 75}. Best is trial 26 with value: 1.0.\u001b[0m\n",
      "\u001b[32m[I 2021-05-21 10:41:09,373]\u001b[0m Trial 98 finished with value: 1.0 and parameters: {'num_leaves': 189, 'feature_fraction': 0.5555348061006331, 'bagging_fraction': 0.47627608627231355, 'min_child_samples': 66}. Best is trial 26 with value: 1.0.\u001b[0m\n",
      "\u001b[32m[I 2021-05-21 10:41:09,446]\u001b[0m Trial 99 finished with value: 0.9922431865828092 and parameters: {'num_leaves': 186, 'feature_fraction': 0.5592855030366687, 'bagging_fraction': 0.48124609604703245, 'min_child_samples': 65}. Best is trial 26 with value: 1.0.\u001b[0m\n"
     ]
    },
    {
     "ename": "TypeError",
     "evalue": "log_study_metadata() missing 1 required positional argument: 'run'",
     "output_type": "error",
     "traceback": [
      "\u001b[0;31m---------------------------------------------------------------------------\u001b[0m",
      "\u001b[0;31mTypeError\u001b[0m                                 Traceback (most recent call last)",
      "\u001b[0;32m<ipython-input-24-35eb569e05bf>\u001b[0m in \u001b[0;36m<module>\u001b[0;34m\u001b[0m\n\u001b[1;32m      7\u001b[0m \u001b[0;34m\u001b[0m\u001b[0m\n\u001b[1;32m      8\u001b[0m \u001b[0;31m# Log Optuna charts and study object after the sweep is complete\u001b[0m\u001b[0;34m\u001b[0m\u001b[0;34m\u001b[0m\u001b[0;34m\u001b[0m\u001b[0m\n\u001b[0;32m----> 9\u001b[0;31m \u001b[0moptuna_utils\u001b[0m\u001b[0;34m.\u001b[0m\u001b[0mlog_study_metadata\u001b[0m\u001b[0;34m(\u001b[0m\u001b[0mstudy\u001b[0m\u001b[0;34m)\u001b[0m\u001b[0;34m\u001b[0m\u001b[0;34m\u001b[0m\u001b[0m\n\u001b[0m\u001b[1;32m     10\u001b[0m \u001b[0;34m\u001b[0m\u001b[0m\n\u001b[1;32m     11\u001b[0m \u001b[0;31m# Stop logging\u001b[0m\u001b[0;34m\u001b[0m\u001b[0;34m\u001b[0m\u001b[0;34m\u001b[0m\u001b[0m\n",
      "\u001b[0;31mTypeError\u001b[0m: log_study_metadata() missing 1 required positional argument: 'run'"
     ]
    }
   ],
   "source": [
    "# Create a Run\n",
    "run = neptune.init(api_token='ANONYMOUS', project='common/optuna-integration') # you can pass your credentials here\n",
    "\n",
    "# Run Optuna with Neptune Callback\n",
    "study = optuna.create_study(direction='maximize')\n",
    "study.optimize(objective, n_trials=100)\n",
    "\n",
    "# Log Optuna charts and study object after the sweep is complete\n",
    "optuna_utils.log_study_metadata(study, \n",
    "                                log_plot_contour=False)\n",
    "\n",
    "# Stop logging \n",
    "run.stop()"
   ]
  },
  {
   "cell_type": "markdown",
   "metadata": {},
   "source": [
    "### Load optuna study \n",
    "\n",
    "If you logged the Optuna Study to Neptune you can load the Study directly from the Run with `load_study_from_run()` function and continue working with it. \n",
    "\n",
    "It works both for `InMemoryStorage` and database storage Optuna studies.  "
   ]
  },
  {
   "cell_type": "code",
   "execution_count": null,
   "metadata": {},
   "outputs": [],
   "source": [
    "# Fetch an existing Neptune Run\n",
    "run = neptune.init(api_token='ANONYMOUS', project='common/optuna-integration', run='') # you can pass your credentials here\n",
    "\n",
    "# Run Optuna with Neptune Callback\n",
    "study = optuna_utils.load_study_from_run(run)\n",
    "\n",
    "# Create callback to log advanced options during the sweep\n",
    "neptune_callback = optuna_utils.NeptuneCallback(run)\n",
    "\n",
    "# Continue logging to the same run\n",
    "study.optimize(objective, n_trials=30, callbacks=[neptune_callback])\n",
    "\n",
    "# Stop logging \n",
    "run.stop()"
   ]
  },
  {
   "cell_type": "markdown",
   "metadata": {},
   "source": [
    "### Keep track of both study-level and trial-level Runs\n",
    "\n",
    "If you want to "
   ]
  },
  {
   "cell_type": "markdown",
   "metadata": {},
   "source": [
    "#### Step 1: Create a unique sweep ID"
   ]
  },
  {
   "cell_type": "code",
   "execution_count": null,
   "metadata": {},
   "outputs": [],
   "source": [
    "import uuid\n",
    "sweep_id = uuid.uuid1()"
   ]
  },
  {
   "cell_type": "markdown",
   "metadata": {},
   "source": [
    "#### Step 2: Create a a study-level Neptune Run"
   ]
  },
  {
   "cell_type": "code",
   "execution_count": null,
   "metadata": {},
   "outputs": [],
   "source": [
    "run_study_level = neptune.init(api_token='ANONYMOUS', project='common/optuna-integration')  # you can pass your credentials here"
   ]
  },
  {
   "cell_type": "markdown",
   "metadata": {},
   "source": [
    "#### Step 3: Attach the sweap ID to the study-level Run \n",
    "\n",
    "You can also add a tag 'study-level' to distinguish between the study-level and trial-level runs for the sweap. "
   ]
  },
  {
   "cell_type": "code",
   "execution_count": null,
   "metadata": {},
   "outputs": [],
   "source": [
    "run_study_level['sys/tags'] = 'study-level'\n",
    "run_study_level['sweep-id'] = sweep_id"
   ]
  },
  {
   "cell_type": "markdown",
   "metadata": {},
   "source": [
    "#### Step 4: Create an objective function that logs each trial to Neptune as a Run\n",
    "\n",
    "Inside of the objective function you need to:\n",
    "* create a trial-level Neptune Run\n",
    "* log the sweap ID and a tag 'trial-level' to distinguish between study-level and trial-level Runs\n",
    "* log parameters and scores to the trial-level Run\n",
    "* stop the trial-level Run"
   ]
  },
  {
   "cell_type": "code",
   "execution_count": null,
   "metadata": {},
   "outputs": [],
   "source": [
    "def objective_with_logging(trial):\n",
    "    data, target = load_breast_cancer(return_X_y=True)\n",
    "    train_x, test_x, train_y, test_y = train_test_split(data, target, test_size=0.25)\n",
    "    dtrain = lgb.Dataset(train_x, label=train_y)\n",
    "\n",
    "    param = {\n",
    "        'verbose': -1,\n",
    "        'objective': 'binary',\n",
    "        'metric': 'binary_logloss',\n",
    "        'num_leaves': trial.suggest_int('num_leaves', 2, 256),\n",
    "        'feature_fraction': trial.suggest_uniform('feature_fraction', 0.2, 1.0),\n",
    "        'bagging_fraction': trial.suggest_uniform('bagging_fraction', 0.2, 1.0),\n",
    "        'min_child_samples': trial.suggest_int('min_child_samples', 3, 100),\n",
    "    }\n",
    "\n",
    "    # create a trial-level Run\n",
    "    run_trial_level = neptune.init(api_token='ANONYMOUS', project='common/optuna-integration')\n",
    "\n",
    "    # log sweep id to trial-level Run\n",
    "    run_trial_level['sys/tags'] = 'trial-level'\n",
    "    run_trial_level['sweep-id'] = sweep_id\n",
    "\n",
    "    # log parameters of a trial-level Run\n",
    "    run_trial_level['parameters'] = param\n",
    "\n",
    "    # run model training\n",
    "    gbm = lgb.train(param, dtrain)\n",
    "    preds = gbm.predict(test_x)\n",
    "    accuracy = roc_auc_score(test_y, preds)\n",
    "\n",
    "    # log score of a trial-level Run\n",
    "    run_trial_level['score'] = accuracy\n",
    "\n",
    "    # stop trial-level Run\n",
    "    run_trial_level.stop()\n",
    "\n",
    "    return accuracy"
   ]
  },
  {
   "cell_type": "markdown",
   "metadata": {},
   "source": [
    "#### Step 5: Create a study-level NeptuneCallback"
   ]
  },
  {
   "cell_type": "code",
   "execution_count": null,
   "metadata": {},
   "outputs": [],
   "source": [
    "neptune_callback = optuna_utils.NeptuneCallback(run_study_level)"
   ]
  },
  {
   "cell_type": "markdown",
   "metadata": {},
   "source": [
    "#### Step 6: Pass the NeptuneCallback to the `study.optimize()` method and run the parameter sweap"
   ]
  },
  {
   "cell_type": "code",
   "execution_count": null,
   "metadata": {},
   "outputs": [],
   "source": [
    "study = optuna.create_study(direction='maximize')\n",
    "study.optimize(objective_with_logging, n_trials=100, callbacks=[neptune_callback])"
   ]
  },
  {
   "cell_type": "markdown",
   "metadata": {},
   "source": [
    "#### Step 7: Stop logging to the Neptune Run"
   ]
  },
  {
   "cell_type": "code",
   "execution_count": 20,
   "metadata": {},
   "outputs": [
    {
     "name": "stdout",
     "output_type": "stream",
     "text": [
      "https://app.neptune.ai/common/optuna-integration/e/NEP1-108\n",
      "d3b29b80-ba01-11eb-ab7c-0f3c3f5a9153\n"
     ]
    }
   ],
   "source": [
    "run_study_level.stop()"
   ]
  },
  {
   "cell_type": "markdown",
   "metadata": {},
   "source": [
    "# Go to the Neptune UI to see your parameter sweap\n",
    "\n",
    "Now when you go to the Neptune UI you have:\n",
    "* all the trial-level Runs logged with `'sys/tags'='trial-level'`\n",
    "* study-level Run logged with `'sys/tags'='study-level'`\n",
    "\n",
    "You can use filters to find all the Runs that belong to the 'sweep-id' of the parameter sweap and compare them. \n",
    "You can also look only at the 'study-level' Run to see the high-level picture of the sweap. "
   ]
  },
  {
   "cell_type": "code",
   "execution_count": null,
   "metadata": {},
   "outputs": [],
   "source": []
  }
 ],
 "metadata": {
  "colab": {
   "collapsed_sections": [],
   "name": "Neptune-Optuna.ipynb",
   "private_outputs": true,
   "provenance": [],
   "toc_visible": true
  },
  "kernelspec": {
   "display_name": "Python 3",
   "language": "python",
   "name": "python3"
  },
  "language_info": {
   "codemirror_mode": {
    "name": "ipython",
    "version": 3
   },
   "file_extension": ".py",
   "mimetype": "text/x-python",
   "name": "python",
   "nbconvert_exporter": "python",
   "pygments_lexer": "ipython3",
   "version": "3.7.7"
  }
 },
 "nbformat": 4,
 "nbformat_minor": 4
}
