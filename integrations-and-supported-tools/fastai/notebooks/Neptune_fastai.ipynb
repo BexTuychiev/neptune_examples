{
  "nbformat": 4,
  "nbformat_minor": 0,
  "metadata": {
    "colab": {
      "name": "Neptune_fastai.ipynb",
      "provenance": [],
      "collapsed_sections": [],
      "toc_visible": true
    },
    "kernelspec": {
      "name": "python3",
      "display_name": "Python 3"
    },
    "language_info": {
      "name": "python"
    }
  },
  "cells": [
    {
      "cell_type": "markdown",
      "metadata": {
        "id": "WzRZxnhilGh3"
      },
      "source": [
        "# Neptune + Fastai\n",
        "## Before you start\n",
        "### Install dependencies"
      ]
    },
    {
      "cell_type": "code",
      "metadata": {
        "id": "7XAimXshlauN"
      },
      "source": [
        "!pip install --quiet neptune-client[fastai] fastai==2.3.1"
      ],
      "execution_count": null,
      "outputs": []
    },
    {
      "cell_type": "markdown",
      "metadata": {
        "id": "gO_cFFcElVZ3"
      },
      "source": [
        "# Basic Example"
      ]
    },
    {
      "cell_type": "markdown",
      "metadata": {
        "id": "VRxD9Nwtlgt3"
      },
      "source": [
        "**Import libraries**"
      ]
    },
    {
      "cell_type": "code",
      "metadata": {
        "id": "OOobenPNmwX2"
      },
      "source": [
        "import fastai\n",
        "from fastai.vision.all import *\n",
        "from neptune.new.integrations.fastai import NeptuneCallback\n",
        "import neptune.new as neptune\n",
        "from neptune.new.types import File"
      ],
      "execution_count": null,
      "outputs": []
    },
    {
      "cell_type": "markdown",
      "metadata": {
        "id": "7xARz0oqQ6K3"
      },
      "source": [
        "## Step 1: Create a Neptune run\n",
        "\n",
        "To log metadata to the Neptune project, you need the `project name` and the `api_token`.\n",
        "\n",
        "To make this example easy to follow, we have created a public project **'common/fastai-integration'** and a shared user **'neptuner'** with the API token **'ANONYMOUS'**. As you will see in the code cell below.\n",
        "\n",
        "**(Optional)** To log to your Neptune project:\n",
        "\n",
        "* [Create a Neptune account](https://app.neptune.ai/register/)\n",
        "\n",
        "* [Find your API token](https://docs.neptune.ai/getting-started/installation#authentication-neptune-api-token)\n",
        "* [Find your project name](https://docs.neptune.ai/getting-started/installation#setting-the-project-name)\n",
        "\n",
        "Pass your credentials to project and api_token arguments of neptune.init()\n",
        "\n",
        "`run = neptune.init(api_token='<YOUR_API_TOKEN>', project='<YOUR_WORKSPACE/YOUR_PROJECT>')` # pass your credentials\n"
      ]
    },
    {
      "cell_type": "code",
      "metadata": {
        "id": "a5josiPlQ8_S"
      },
      "source": [
        "run = neptune.init(project='common/fastai-integration', api_token='ANONYMOUS')"
      ],
      "execution_count": null,
      "outputs": []
    },
    {
      "cell_type": "markdown",
      "metadata": {
        "id": "XX-XBtp1Ndr7"
      },
      "source": [
        "**Dataset**"
      ]
    },
    {
      "cell_type": "code",
      "metadata": {
        "id": "-Y5Az-g8m9l4"
      },
      "source": [
        "path = untar_data(URLs.MNIST_TINY)"
      ],
      "execution_count": null,
      "outputs": []
    },
    {
      "cell_type": "code",
      "metadata": {
        "id": "SEzDfnfePtd7"
      },
      "source": [
        "dls = ImageDataLoaders.from_csv(path)"
      ],
      "execution_count": null,
      "outputs": []
    },
    {
      "cell_type": "code",
      "metadata": {
        "id": "VdDCPKPGQAMM"
      },
      "source": [
        "dls.show_batch()"
      ],
      "execution_count": null,
      "outputs": []
    },
    {
      "cell_type": "markdown",
      "metadata": {
        "id": "bwAvyUTah2wG"
      },
      "source": [
        "## Step 2: Log metadata using NeptuneCallback()\n",
        "Using NeptuneCallback the following is automatically logged to Neptune UI for you:\n",
        "- Hyperparameters\n",
        "- Loss\n",
        "- Metrics\n",
        "- Best model weights \n",
        "- Model architecture\n"
      ]
    },
    {
      "cell_type": "code",
      "metadata": {
        "id": "XeKggX9TieAt"
      },
      "source": [
        "learn = cnn_learner(dls, resnet18, cbs=[NeptuneCallback(run, 'experiment')])"
      ],
      "execution_count": null,
      "outputs": []
    },
    {
      "cell_type": "code",
      "metadata": {
        "id": "UQPN6xLliiQf"
      },
      "source": [
        "learn.fit_one_cycle(1)"
      ],
      "execution_count": null,
      "outputs": []
    },
    {
      "cell_type": "markdown",
      "metadata": {
        "id": "FCY2qcr4Z3sd"
      },
      "source": [
        "# More options\n"
      ]
    },
    {
      "cell_type": "markdown",
      "metadata": {
        "id": "AvhSUx5-nOoh"
      },
      "source": [
        "### Step 3: Single and Multi phase logging"
      ]
    },
    {
      "cell_type": "markdown",
      "metadata": {
        "id": "fMwRFdGIiJAa"
      },
      "source": [
        "#### Log on a single training phase"
      ]
    },
    {
      "cell_type": "code",
      "metadata": {
        "id": "EBnCsZcNQCwM"
      },
      "source": [
        "learn = cnn_learner(dls, resnet18)"
      ],
      "execution_count": null,
      "outputs": []
    },
    {
      "cell_type": "code",
      "metadata": {
        "id": "pwgp4C2gmA8k"
      },
      "source": [
        "learn.fit_one_cycle(3, cbs = [NeptuneCallback(run, 'bs', save_model_freq= 2)])"
      ],
      "execution_count": null,
      "outputs": []
    },
    {
      "cell_type": "markdown",
      "metadata": {
        "id": "F7wmJ3wEjgwa"
      },
      "source": [
        "#### Log all training phases of the learner"
      ]
    },
    {
      "cell_type": "code",
      "metadata": {
        "id": "PHBtywoijgDH"
      },
      "source": [
        "learn = cnn_learner(dls, resnet18, cbs=[NeptuneCallback(run, 'experiment')])"
      ],
      "execution_count": null,
      "outputs": []
    },
    {
      "cell_type": "code",
      "metadata": {
        "id": "KuChX6iNjrJ-"
      },
      "source": [
        "learn.fit_one_cycle(2)"
      ],
      "execution_count": null,
      "outputs": []
    },
    {
      "cell_type": "code",
      "metadata": {
        "id": "v5-iNQ0Mjr24"
      },
      "source": [
        "learn.fit_one_cycle(2)"
      ],
      "execution_count": null,
      "outputs": []
    },
    {
      "cell_type": "markdown",
      "metadata": {
        "id": "6OrymETJj0WP"
      },
      "source": [
        "### Step 4: Model weights"
      ]
    },
    {
      "cell_type": "markdown",
      "metadata": {
        "id": "823ZK7B9ky3y"
      },
      "source": [
        "1. By default NeptuneCallback() saves and logs the best model for you automatically. \n",
        "You can disable it by setting `save_best_model` arg to False."
      ]
    },
    {
      "cell_type": "markdown",
      "metadata": {
        "id": "9t0Gyrtnj34B"
      },
      "source": [
        "2. Log Every N epochs"
      ]
    },
    {
      "cell_type": "code",
      "metadata": {
        "id": "mCqMRybFkDR-"
      },
      "source": [
        "n = 4\n",
        "learn = cnn_learner(dls, resnet18, cbs=[NeptuneCallback(run, 'experiment', save_model_freq=n)])"
      ],
      "execution_count": null,
      "outputs": []
    },
    {
      "cell_type": "code",
      "metadata": {
        "id": "4vrqLIdDkcTl"
      },
      "source": [
        "learn.fit_one_cycle(8)"
      ],
      "execution_count": null,
      "outputs": []
    },
    {
      "cell_type": "markdown",
      "metadata": {
        "id": "Cr7Ng6v_khQz"
      },
      "source": [
        " 3. Add SaveModelCallback \n",
        "\n",
        "  If you want to log your model weight files during single training phase then add  SavemodelCallback()."
      ]
    },
    {
      "cell_type": "code",
      "metadata": {
        "id": "HmGm3ACrkqx0"
      },
      "source": [
        "learn.fit_one_cycle(1, cbs=[SaveModelCallback(), NeptuneCallback(run, 'experiment')])"
      ],
      "execution_count": null,
      "outputs": []
    },
    {
      "cell_type": "markdown",
      "metadata": {
        "id": "hByiet7ZaC-h"
      },
      "source": [
        "### Step 5: Log images"
      ]
    },
    {
      "cell_type": "code",
      "metadata": {
        "id": "aCAZgIr-Z7ne"
      },
      "source": [
        "batch = dls.one_batch()\n",
        "for i, (x,y) in enumerate(dls.decode_batch(batch)):\n",
        "    # Neptune supports torch tensors\n",
        "    # fastai uses their own tensor type name TensorImage \n",
        "    # so you have to convert it back to torch.Tensor\n",
        "    run['images/one_batch'].log(\n",
        "        File.as_image(x.as_subclass(torch.Tensor).permute(2,1,0).clip(0,1)), \n",
        "        name = f'{i}', description = f'Label: {y}')\n",
        "    "
      ],
      "execution_count": null,
      "outputs": []
    },
    {
      "cell_type": "markdown",
      "metadata": {
        "id": "94Q_KFXHoeZ0"
      },
      "source": [
        "# Stop Run"
      ]
    },
    {
      "cell_type": "code",
      "metadata": {
        "id": "gJC4Q0SEXQn1"
      },
      "source": [
        "run.stop()"
      ],
      "execution_count": null,
      "outputs": []
    }
  ]
}