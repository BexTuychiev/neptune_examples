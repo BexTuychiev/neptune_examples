{
  "nbformat": 4,
  "nbformat_minor": 0,
  "metadata": {
    "colab": {
      "name": "Neptune_fastai.ipynb",
      "provenance": [],
      "collapsed_sections": [],
      "toc_visible": true
    },
    "kernelspec": {
      "name": "python3",
      "display_name": "Python 3"
    },
    "language_info": {
      "name": "python"
    },
    "widgets": {
      "application/vnd.jupyter.widget-state+json": {
        "5693bb4dfa794081b99214ff331105d7": {
          "model_module": "@jupyter-widgets/controls",
          "model_name": "HBoxModel",
          "state": {
            "_view_name": "HBoxView",
            "_dom_classes": [],
            "_model_name": "HBoxModel",
            "_view_module": "@jupyter-widgets/controls",
            "_model_module_version": "1.5.0",
            "_view_count": null,
            "_view_module_version": "1.5.0",
            "box_style": "",
            "layout": "IPY_MODEL_487528e8655b466881efdd01db8f967f",
            "_model_module": "@jupyter-widgets/controls",
            "children": [
              "IPY_MODEL_76c99b85bc1b4edaa844f8649c018a46",
              "IPY_MODEL_5791b3089f9e4a8b854668ad30b859fa"
            ]
          }
        },
        "487528e8655b466881efdd01db8f967f": {
          "model_module": "@jupyter-widgets/base",
          "model_name": "LayoutModel",
          "state": {
            "_view_name": "LayoutView",
            "grid_template_rows": null,
            "right": null,
            "justify_content": null,
            "_view_module": "@jupyter-widgets/base",
            "overflow": null,
            "_model_module_version": "1.2.0",
            "_view_count": null,
            "flex_flow": null,
            "width": null,
            "min_width": null,
            "border": null,
            "align_items": null,
            "bottom": null,
            "_model_module": "@jupyter-widgets/base",
            "top": null,
            "grid_column": null,
            "overflow_y": null,
            "overflow_x": null,
            "grid_auto_flow": null,
            "grid_area": null,
            "grid_template_columns": null,
            "flex": null,
            "_model_name": "LayoutModel",
            "justify_items": null,
            "grid_row": null,
            "max_height": null,
            "align_content": null,
            "visibility": null,
            "align_self": null,
            "height": null,
            "min_height": null,
            "padding": null,
            "grid_auto_rows": null,
            "grid_gap": null,
            "max_width": null,
            "order": null,
            "_view_module_version": "1.2.0",
            "grid_template_areas": null,
            "object_position": null,
            "object_fit": null,
            "grid_auto_columns": null,
            "margin": null,
            "display": null,
            "left": null
          }
        },
        "76c99b85bc1b4edaa844f8649c018a46": {
          "model_module": "@jupyter-widgets/controls",
          "model_name": "FloatProgressModel",
          "state": {
            "_view_name": "ProgressView",
            "style": "IPY_MODEL_af05db39e2b1416aa801dec0768029e0",
            "_dom_classes": [],
            "description": "100%",
            "_model_name": "FloatProgressModel",
            "bar_style": "success",
            "max": 46827520,
            "_view_module": "@jupyter-widgets/controls",
            "_model_module_version": "1.5.0",
            "value": 46827520,
            "_view_count": null,
            "_view_module_version": "1.5.0",
            "orientation": "horizontal",
            "min": 0,
            "description_tooltip": null,
            "_model_module": "@jupyter-widgets/controls",
            "layout": "IPY_MODEL_74cf93d7a8214ec2a095435d147a76b8"
          }
        },
        "5791b3089f9e4a8b854668ad30b859fa": {
          "model_module": "@jupyter-widgets/controls",
          "model_name": "HTMLModel",
          "state": {
            "_view_name": "HTMLView",
            "style": "IPY_MODEL_be692e16774548b0bc0d727059cf6fa6",
            "_dom_classes": [],
            "description": "",
            "_model_name": "HTMLModel",
            "placeholder": "​",
            "_view_module": "@jupyter-widgets/controls",
            "_model_module_version": "1.5.0",
            "value": " 44.7M/44.7M [01:20&lt;00:00, 579kB/s]",
            "_view_count": null,
            "_view_module_version": "1.5.0",
            "description_tooltip": null,
            "_model_module": "@jupyter-widgets/controls",
            "layout": "IPY_MODEL_c60acb0e1f18466490addacb9cd8c93a"
          }
        },
        "af05db39e2b1416aa801dec0768029e0": {
          "model_module": "@jupyter-widgets/controls",
          "model_name": "ProgressStyleModel",
          "state": {
            "_view_name": "StyleView",
            "_model_name": "ProgressStyleModel",
            "description_width": "initial",
            "_view_module": "@jupyter-widgets/base",
            "_model_module_version": "1.5.0",
            "_view_count": null,
            "_view_module_version": "1.2.0",
            "bar_color": null,
            "_model_module": "@jupyter-widgets/controls"
          }
        },
        "74cf93d7a8214ec2a095435d147a76b8": {
          "model_module": "@jupyter-widgets/base",
          "model_name": "LayoutModel",
          "state": {
            "_view_name": "LayoutView",
            "grid_template_rows": null,
            "right": null,
            "justify_content": null,
            "_view_module": "@jupyter-widgets/base",
            "overflow": null,
            "_model_module_version": "1.2.0",
            "_view_count": null,
            "flex_flow": null,
            "width": null,
            "min_width": null,
            "border": null,
            "align_items": null,
            "bottom": null,
            "_model_module": "@jupyter-widgets/base",
            "top": null,
            "grid_column": null,
            "overflow_y": null,
            "overflow_x": null,
            "grid_auto_flow": null,
            "grid_area": null,
            "grid_template_columns": null,
            "flex": null,
            "_model_name": "LayoutModel",
            "justify_items": null,
            "grid_row": null,
            "max_height": null,
            "align_content": null,
            "visibility": null,
            "align_self": null,
            "height": null,
            "min_height": null,
            "padding": null,
            "grid_auto_rows": null,
            "grid_gap": null,
            "max_width": null,
            "order": null,
            "_view_module_version": "1.2.0",
            "grid_template_areas": null,
            "object_position": null,
            "object_fit": null,
            "grid_auto_columns": null,
            "margin": null,
            "display": null,
            "left": null
          }
        },
        "be692e16774548b0bc0d727059cf6fa6": {
          "model_module": "@jupyter-widgets/controls",
          "model_name": "DescriptionStyleModel",
          "state": {
            "_view_name": "StyleView",
            "_model_name": "DescriptionStyleModel",
            "description_width": "",
            "_view_module": "@jupyter-widgets/base",
            "_model_module_version": "1.5.0",
            "_view_count": null,
            "_view_module_version": "1.2.0",
            "_model_module": "@jupyter-widgets/controls"
          }
        },
        "c60acb0e1f18466490addacb9cd8c93a": {
          "model_module": "@jupyter-widgets/base",
          "model_name": "LayoutModel",
          "state": {
            "_view_name": "LayoutView",
            "grid_template_rows": null,
            "right": null,
            "justify_content": null,
            "_view_module": "@jupyter-widgets/base",
            "overflow": null,
            "_model_module_version": "1.2.0",
            "_view_count": null,
            "flex_flow": null,
            "width": null,
            "min_width": null,
            "border": null,
            "align_items": null,
            "bottom": null,
            "_model_module": "@jupyter-widgets/base",
            "top": null,
            "grid_column": null,
            "overflow_y": null,
            "overflow_x": null,
            "grid_auto_flow": null,
            "grid_area": null,
            "grid_template_columns": null,
            "flex": null,
            "_model_name": "LayoutModel",
            "justify_items": null,
            "grid_row": null,
            "max_height": null,
            "align_content": null,
            "visibility": null,
            "align_self": null,
            "height": null,
            "min_height": null,
            "padding": null,
            "grid_auto_rows": null,
            "grid_gap": null,
            "max_width": null,
            "order": null,
            "_view_module_version": "1.2.0",
            "grid_template_areas": null,
            "object_position": null,
            "object_fit": null,
            "grid_auto_columns": null,
            "margin": null,
            "display": null,
            "left": null
          }
        }
      }
    }
  },
  "cells": [
    {
      "cell_type": "markdown",
      "metadata": {
        "id": "WzRZxnhilGh3"
      },
      "source": [
        "# Neptune + Fastai\n",
        "## Before you start\n",
        "### Install dependencies"
      ]
    },
    {
      "cell_type": "code",
      "metadata": {
        "id": "7XAimXshlauN"
      },
      "source": [
        "!pip install --quiet neptune-client==0.9.16 neptune-fastai fastai==2.3.1"
      ],
      "execution_count": null,
      "outputs": []
    },
    {
      "cell_type": "markdown",
      "metadata": {
        "id": "gO_cFFcElVZ3"
      },
      "source": [
        "# Basic Example"
      ]
    },
    {
      "cell_type": "markdown",
      "metadata": {
        "id": "VRxD9Nwtlgt3"
      },
      "source": [
        "**Import libraries**"
      ]
    },
    {
      "cell_type": "code",
      "metadata": {
        "id": "OOobenPNmwX2"
      },
      "source": [
        "import fastai\n",
        "from fastai.vision.all import *\n",
        "from neptune.new.integrations.fastai import NeptuneCallback\n",
        "import neptune.new as neptune"
      ],
      "execution_count": null,
      "outputs": []
    },
    {
      "cell_type": "markdown",
      "metadata": {
        "id": "7xARz0oqQ6K3"
      },
      "source": [
        "## Step 1: Create a Neptune run\n",
        "\n",
        "To log metadata to the Neptune project, you need the `project name` and the `api_token`.\n",
        "\n",
        "To make this example easy to follow, we have created a public project **'common/optuna-integration'** and a shared user **'neptuner'** with the API token **'ANONYMOUS'**. As you will see in the code cell below.\n",
        "\n",
        "**(Optional)** To log to your Neptune project:\n",
        "\n",
        "* [Create a Neptune account](https://app.neptune.ai/register/)\n",
        "\n",
        "* [Find your API token](https://docs.neptune.ai/getting-started/installation#authentication-neptune-api-token)\n",
        "* [Find your project name](https://docs.neptune.ai/getting-started/installation#setting-the-project-name)\n",
        "\n",
        "Pass your credentials to project and api_token arguments of neptune.init()\n",
        "\n",
        "`run = neptune.init(api_token='<YOUR_API_TOKEN>', project='<YOUR_WORKSPACE/YOUR_PROJECT>')` # pass your credentials\n"
      ]
    },
    {
      "cell_type": "code",
      "metadata": {
        "id": "a5josiPlQ8_S"
      },
      "source": [
        "run = neptune.init(project='common/fastai-integration', api_token='ANONYMOUS')"
      ],
      "execution_count": null,
      "outputs": []
    },
    {
      "cell_type": "markdown",
      "metadata": {
        "id": "XX-XBtp1Ndr7"
      },
      "source": [
        "**Dataset**"
      ]
    },
    {
      "cell_type": "code",
      "metadata": {
        "id": "-Y5Az-g8m9l4",
        "colab": {
          "base_uri": "https://localhost:8080/",
          "height": 17
        },
        "outputId": "d43c73d7-8f4a-4e55-8647-547460fe841d"
      },
      "source": [
        "path = untar_data(URLs.MNIST_TINY)"
      ],
      "execution_count": null,
      "outputs": [
        {
          "output_type": "display_data",
          "data": {
            "text/html": [
              ""
            ],
            "text/plain": [
              "<IPython.core.display.HTML object>"
            ]
          },
          "metadata": {
            "tags": []
          }
        }
      ]
    },
    {
      "cell_type": "code",
      "metadata": {
        "id": "SEzDfnfePtd7"
      },
      "source": [
        "dls = ImageDataLoaders.from_csv(path)"
      ],
      "execution_count": null,
      "outputs": []
    },
    {
      "cell_type": "code",
      "metadata": {
        "id": "VdDCPKPGQAMM"
      },
      "source": [
        "dls.show_batch()"
      ],
      "execution_count": null,
      "outputs": []
    },
    {
      "cell_type": "markdown",
      "metadata": {
        "id": "bwAvyUTah2wG"
      },
      "source": [
        "## Step 2: Log metadata using NeptuneCallback()\n",
        "Using NeptuneCallback the following is automatically logged to Neptune UI for you:\n",
        "- Hyperparameters\n",
        "- Loss\n",
        "- Metrics\n",
        "- Best model weights \n",
        "- Model architecture\n"
      ]
    },
    {
      "cell_type": "code",
      "metadata": {
        "id": "XeKggX9TieAt"
      },
      "source": [
        "learn = cnn_learner(dls, resnet18, cbs=[NeptuneCallback(run, 'experiment')])"
      ],
      "execution_count": null,
      "outputs": []
    },
    {
      "cell_type": "code",
      "metadata": {
        "id": "UQPN6xLliiQf"
      },
      "source": [
        "learn.fit_one_cycle(1)"
      ],
      "execution_count": null,
      "outputs": []
    },
    {
      "cell_type": "markdown",
      "metadata": {
        "id": "FCY2qcr4Z3sd"
      },
      "source": [
        "# More options\n"
      ]
    },
    {
      "cell_type": "markdown",
      "metadata": {
        "id": "AvhSUx5-nOoh"
      },
      "source": [
        "### Step 3: Single and Multi phase logging"
      ]
    },
    {
      "cell_type": "markdown",
      "metadata": {
        "id": "fMwRFdGIiJAa"
      },
      "source": [
        "#### Log on a single training phase"
      ]
    },
    {
      "cell_type": "code",
      "metadata": {
        "id": "EBnCsZcNQCwM",
        "colab": {
          "base_uri": "https://localhost:8080/",
          "height": 84,
          "referenced_widgets": [
            "5693bb4dfa794081b99214ff331105d7",
            "487528e8655b466881efdd01db8f967f",
            "76c99b85bc1b4edaa844f8649c018a46",
            "5791b3089f9e4a8b854668ad30b859fa",
            "af05db39e2b1416aa801dec0768029e0",
            "74cf93d7a8214ec2a095435d147a76b8",
            "be692e16774548b0bc0d727059cf6fa6",
            "c60acb0e1f18466490addacb9cd8c93a"
          ]
        },
        "outputId": "8642a59f-69bd-49b5-83ee-4a9a97a21611"
      },
      "source": [
        "learn = cnn_learner(dls, resnet18)"
      ],
      "execution_count": null,
      "outputs": [
        {
          "output_type": "stream",
          "text": [
            "Downloading: \"https://download.pytorch.org/models/resnet18-5c106cde.pth\" to /root/.cache/torch/hub/checkpoints/resnet18-5c106cde.pth\n"
          ],
          "name": "stderr"
        },
        {
          "output_type": "display_data",
          "data": {
            "application/vnd.jupyter.widget-view+json": {
              "model_id": "5693bb4dfa794081b99214ff331105d7",
              "version_minor": 0,
              "version_major": 2
            },
            "text/plain": [
              "HBox(children=(FloatProgress(value=0.0, max=46827520.0), HTML(value='')))"
            ]
          },
          "metadata": {
            "tags": []
          }
        },
        {
          "output_type": "stream",
          "text": [
            "\n"
          ],
          "name": "stdout"
        }
      ]
    },
    {
      "cell_type": "code",
      "metadata": {
        "colab": {
          "base_uri": "https://localhost:8080/",
          "height": 95
        },
        "id": "pwgp4C2gmA8k",
        "outputId": "788bd2b3-f2af-4f2f-ed6c-589583e77050"
      },
      "source": [
        "learn.fit_one_cycle(3, cbs = [NeptuneCallback(run, 'bs', save_model_freq= 2)])"
      ],
      "execution_count": null,
      "outputs": [
        {
          "output_type": "display_data",
          "data": {
            "text/html": [
              "<table border=\"1\" class=\"dataframe\">\n",
              "  <thead>\n",
              "    <tr style=\"text-align: left;\">\n",
              "      <th>epoch</th>\n",
              "      <th>train_loss</th>\n",
              "      <th>valid_loss</th>\n",
              "      <th>time</th>\n",
              "    </tr>\n",
              "  </thead>\n",
              "  <tbody>\n",
              "    <tr>\n",
              "      <td>0</td>\n",
              "      <td>0.712470</td>\n",
              "      <td>0.309837</td>\n",
              "      <td>00:09</td>\n",
              "    </tr>\n",
              "  </tbody>\n",
              "</table>"
            ],
            "text/plain": [
              "<IPython.core.display.HTML object>"
            ]
          },
          "metadata": {
            "tags": []
          }
        },
        {
          "output_type": "stream",
          "text": [
            "Better model found at epoch 0 with valid_loss value: 0.30983734130859375.\n"
          ],
          "name": "stdout"
        }
      ]
    },
    {
      "cell_type": "markdown",
      "metadata": {
        "id": "F7wmJ3wEjgwa"
      },
      "source": [
        "#### Log all training phases of the learner"
      ]
    },
    {
      "cell_type": "code",
      "metadata": {
        "id": "PHBtywoijgDH"
      },
      "source": [
        "learn = cnn_learner(dls, resnet18, cbs=[NeptuneCallback(run, 'experiment')])"
      ],
      "execution_count": null,
      "outputs": []
    },
    {
      "cell_type": "code",
      "metadata": {
        "id": "KuChX6iNjrJ-"
      },
      "source": [
        "learn.fit_one_cycle(2)"
      ],
      "execution_count": null,
      "outputs": []
    },
    {
      "cell_type": "code",
      "metadata": {
        "id": "v5-iNQ0Mjr24"
      },
      "source": [
        "learn.fit_one_cycle(2)"
      ],
      "execution_count": null,
      "outputs": []
    },
    {
      "cell_type": "markdown",
      "metadata": {
        "id": "6OrymETJj0WP"
      },
      "source": [
        "### Step 4: Model weights"
      ]
    },
    {
      "cell_type": "markdown",
      "metadata": {
        "id": "823ZK7B9ky3y"
      },
      "source": [
        "1. By default NeptuneCallback() saves and logs the best model for you automatically. \n",
        "You can disable it by setting `save_best_model` arg to False."
      ]
    },
    {
      "cell_type": "markdown",
      "metadata": {
        "id": "9t0Gyrtnj34B"
      },
      "source": [
        "2. Log Every N epochs"
      ]
    },
    {
      "cell_type": "code",
      "metadata": {
        "id": "mCqMRybFkDR-"
      },
      "source": [
        "n = 4\n",
        "learn = cnn_learner(dls, resnet18, cbs=[NeptuneCallback(run, 'experiment', save_model_freq=n)])"
      ],
      "execution_count": null,
      "outputs": []
    },
    {
      "cell_type": "code",
      "metadata": {
        "id": "4vrqLIdDkcTl"
      },
      "source": [
        "learn.fit_one_cycle(8)"
      ],
      "execution_count": null,
      "outputs": []
    },
    {
      "cell_type": "markdown",
      "metadata": {
        "id": "Cr7Ng6v_khQz"
      },
      "source": [
        " 3. Add SaveModel Callback"
      ]
    },
    {
      "cell_type": "code",
      "metadata": {
        "id": "HmGm3ACrkqx0"
      },
      "source": [
        "learn = cnn_learner(dls, resnet18, cbs=[SaveModelCallback(), NeptuneCallback(run, 'experiment')])\n",
        "learn.fit_one_cycle(1)"
      ],
      "execution_count": null,
      "outputs": []
    },
    {
      "cell_type": "markdown",
      "metadata": {
        "id": "hByiet7ZaC-h"
      },
      "source": [
        "### Step 5: Log images"
      ]
    },
    {
      "cell_type": "code",
      "metadata": {
        "id": "aCAZgIr-Z7ne"
      },
      "source": [
        "batch = dls.one_batch()\n",
        "for i, (x,y) in enumerate(dls.decode_batch(batch)):\n",
        "    run['images/one_batch'].log(File.as_image(x), name = f'{y}')"
      ],
      "execution_count": null,
      "outputs": []
    },
    {
      "cell_type": "markdown",
      "metadata": {
        "id": "94Q_KFXHoeZ0"
      },
      "source": [
        "# Stop Run"
      ]
    },
    {
      "cell_type": "code",
      "metadata": {
        "id": "gJC4Q0SEXQn1"
      },
      "source": [
        "run.stop()"
      ],
      "execution_count": null,
      "outputs": []
    }
  ]
}