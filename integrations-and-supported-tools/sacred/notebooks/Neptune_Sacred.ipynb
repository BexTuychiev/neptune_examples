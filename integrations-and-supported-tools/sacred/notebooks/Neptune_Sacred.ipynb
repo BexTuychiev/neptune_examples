{
  "nbformat": 4,
  "nbformat_minor": 0,
  "metadata": {
    "colab": {
      "name": "Neptune_Sacred.ipynb",
      "provenance": [],
      "collapsed_sections": [],
      "toc_visible": true
    },
    "kernelspec": {
      "name": "python3",
      "display_name": "Python 3"
    },
    "language_info": {
      "name": "python"
    },
    "accelerator": "GPU"
  },
  "cells": [
    {
      "cell_type": "markdown",
      "metadata": {
        "id": "gkYha65NlRuH"
      },
      "source": [
        "# Neptune + Sacred\n",
        "\n",
        "## Before you start\n",
        "\n",
        "### Install dependecies"
      ]
    },
    {
      "cell_type": "code",
      "metadata": {
        "id": "PTBMNOrWkg9l"
      },
      "source": [
        "!pip install --q sacred==0.8.2 neptune-client[sacred]==0.9.18"
      ],
      "execution_count": null,
      "outputs": []
    },
    {
      "cell_type": "markdown",
      "metadata": {
        "id": "NC_EDLIdGDg8"
      },
      "source": [
        "# Basic Example\n",
        "\n",
        "Import Libraries"
      ]
    },
    {
      "cell_type": "code",
      "metadata": {
        "id": "q65Hmp7WOH3E"
      },
      "source": [
        "import torch\n",
        "import torch.nn as nn\n",
        "import torch.optim as optim\n",
        "from torchvision import datasets, transforms\n",
        "from sacred import Experiment"
      ],
      "execution_count": null,
      "outputs": []
    },
    {
      "cell_type": "code",
      "metadata": {
        "id": "iV7VkrGEEq6m"
      },
      "source": [
        "import neptune.new as neptune\n",
        "from neptune.new.integrations.sacred import NeptuneObserver"
      ],
      "execution_count": null,
      "outputs": []
    },
    {
      "cell_type": "code",
      "metadata": {
        "id": "byvCk2u2r7Qw"
      },
      "source": [
        "if torch.device(\"cuda:0\"):\n",
        "    torch.cuda.empty_cache()"
      ],
      "execution_count": null,
      "outputs": []
    },
    {
      "cell_type": "markdown",
      "metadata": {
        "id": "iPGGEo_I61zA"
      },
      "source": [
        "## Step 1: Create a Neptune run\n",
        "\n",
        "To log metadata to the Neptune project, you need the `project name` and the `api_token`.\n",
        "\n",
        "To make this example easy to follow, we have created a public project **'common/sacred-integration'** and a shared user **'neptuner'** with the API token **'ANONYMOUS'**. As you will see in the code cell below.\n",
        "\n",
        "**(Optional)** To log to your Neptune project:\n",
        "\n",
        "* [Create a Neptune account](https://app.neptune.ai/register/)\n",
        "\n",
        "* [Find your API token](https://docs.neptune.ai/getting-started/installation#authentication-neptune-api-token)\n",
        "* [Find your project name](https://docs.neptune.ai/getting-started/installation#setting-the-project-name)\n",
        "\n",
        "Pass your credentials to project and api_token arguments of neptune.init()\n",
        "\n",
        "`run = neptune.init(api_token='<YOUR_API_TOKEN>', project='<YOUR_WORKSPACE/YOUR_PROJECT>')` # pass your credentials\n"
      ]
    },
    {
      "cell_type": "code",
      "metadata": {
        "id": "UxqRajgPd9CB"
      },
      "source": [
        "neptune_run = neptune.init(\n",
        "    project='common/sacred-integration', \n",
        "    api_token = 'ANONYMOUS',\n",
        "    tags = 'notebook'\n",
        ")"
      ],
      "execution_count": null,
      "outputs": []
    },
    {
      "cell_type": "markdown",
      "metadata": {
        "id": "_a8-oeGb8EsL"
      },
      "source": [
        "## Step 2: Add NeptuneObserver() to your sacred experiment's observers\n",
        "Using NeptuneObsever the following is automatically logged to Neptune UI for you:\n",
        "- Hyperparameters\n",
        "- Loss\n",
        "- Metrics\n"
      ]
    },
    {
      "cell_type": "code",
      "metadata": {
        "id": "dNiOIieaCcb9"
      },
      "source": [
        "ex = Experiment('image_classification', interactive=True)\n",
        "ex.observers.append(NeptuneObserver(run=neptune_run))"
      ],
      "execution_count": null,
      "outputs": []
    },
    {
      "cell_type": "markdown",
      "metadata": {
        "id": "eKGCvlcDWuak"
      },
      "source": [
        "Define Model"
      ]
    },
    {
      "cell_type": "code",
      "metadata": {
        "id": "vgF9c6pLErSw"
      },
      "source": [
        "class BaseModel(nn.Module):\n",
        "    def __init__(self, input_sz = 32 * 32 * 3, n_classes = 10):\n",
        "        super(BaseModel, self).__init__()\n",
        "        self.lin = nn.Linear(input_sz, n_classes)\n",
        "\n",
        "\n",
        "    def forward(self, input):\n",
        "        x = input.view(-1, 32 * 32 * 3)\n",
        "        return self.lin(x)\n"
      ],
      "execution_count": null,
      "outputs": []
    },
    {
      "cell_type": "code",
      "metadata": {
        "id": "HdRntahk_wh_"
      },
      "source": [
        "model = BaseModel()"
      ],
      "execution_count": null,
      "outputs": []
    },
    {
      "cell_type": "markdown",
      "metadata": {
        "id": "zdc0Y7788-c8"
      },
      "source": [
        "Define your configuration/hyperparamenters"
      ]
    },
    {
      "cell_type": "code",
      "metadata": {
        "id": "zz3AX4T08aFQ"
      },
      "source": [
        "@ex.config\n",
        "def cfg():\n",
        "    data_dir = 'data/CIFAR10'\n",
        "    data_tfms = {\n",
        "        'train': transforms.Compose([\n",
        "            transforms.RandomHorizontalFlip(),\n",
        "            transforms.ToTensor(),\n",
        "            transforms.Normalize([0.485, 0.456, 0.406], [0.229, 0.224, 0.225])\n",
        "        ])\n",
        "    }\n",
        "    lr = 1e-2\n",
        "    bs = 128\n",
        "    n_classes = 10\n",
        "    device = torch.device(\"cuda:0\" if torch.cuda.is_available() else \"cpu\")"
      ],
      "execution_count": null,
      "outputs": []
    },
    {
      "cell_type": "markdown",
      "metadata": {
        "id": "CiVUxG489NPe"
      },
      "source": [
        "Define your run"
      ]
    },
    {
      "cell_type": "code",
      "metadata": {
        "id": "FOJvPNcp8cpO"
      },
      "source": [
        "@ex.main\n",
        "def run(data_dir, data_tfms, input_sz, n_classes, lr, bs, device, _run):\n",
        "    \n",
        "    trainset = datasets.CIFAR10(data_dir, transform=data_tfms['train'], \n",
        "                                download=True)\n",
        "    trainloader = torch.utils.data.DataLoader(trainset, batch_size=bs,\n",
        "                                              shuffle=True, num_workers=2)\n",
        "    model.to(device)\n",
        "    criterion = nn.CrossEntropyLoss()\n",
        "    optimizer = optim.SGD(model.parameters(), lr=lr)  \n",
        "    for i, (x, y) in enumerate(trainloader, 0):\n",
        "        x, y = x.to(device), y.to(device)\n",
        "        optimizer.zero_grad()\n",
        "        outputs = model.forward(x)\n",
        "        _, preds = torch.max(outputs, 1)\n",
        "        loss = criterion(outputs, y)\n",
        "        acc = (torch.sum(preds == y.data)) / len(x)\n",
        "\n",
        "        # Log loss\n",
        "        ex.log_scalar(\"training/batch/loss\", loss)\n",
        "        # Log accuracy\n",
        "        ex.log_scalar(\"training/batch/acc\", acc)\n",
        "\n",
        "        loss.backward()\n",
        "        optimizer.step()\n",
        "    \n",
        "    return {'final_loss': loss.item(), 'final_acc': acc.cpu().item()}"
      ],
      "execution_count": null,
      "outputs": []
    },
    {
      "cell_type": "markdown",
      "metadata": {
        "id": "TH0t2ry48kXN"
      },
      "source": [
        "## Step 3: Run you experiment and explore metadata in Neptune UI\n",
        "\n",
        "All metadata is logged automatically to Neptune. \n",
        "\n",
        "After running your script or notebook cell you will get a link similar to:\n",
        "https://app.neptune.ai/o/common/org/sacred-integration/e/SAC-1\n",
        "with common/pytorch-integration replaced by your project, and SAC-1 replaced by your run.\n",
        "\n",
        "Click on the link to open the Run in Neptune to watch your model training live."
      ]
    },
    {
      "cell_type": "code",
      "metadata": {
        "id": "_0CWFytQwapG"
      },
      "source": [
        "ex.run()"
      ],
      "execution_count": null,
      "outputs": []
    },
    {
      "cell_type": "markdown",
      "metadata": {
        "id": "c5s_EX4CXLUv"
      },
      "source": [
        "# More Options"
      ]
    },
    {
      "cell_type": "markdown",
      "metadata": {
        "id": "faU6X8eXXO3Z"
      },
      "source": [
        "## Step 4: Log Artifacts\n",
        "\n",
        " - Model architecture and weights"
      ]
    },
    {
      "cell_type": "code",
      "metadata": {
        "id": "3OB8Q_YD2tRi"
      },
      "source": [
        "model_fname ='model'\n",
        "print(f'Saving model archictecture as {model_fname}.txt')\n",
        "with open(f'{model_fname}_arch.txt', 'w') as f:  f.write(str(model))"
      ],
      "execution_count": null,
      "outputs": []
    },
    {
      "cell_type": "code",
      "metadata": {
        "id": "Z4oRk7OW2zas"
      },
      "source": [
        "print(f'Saving model weights as {model_fname}.pth')\n",
        "torch.save(model.state_dict(), f'./{model_fname}.pth')"
      ],
      "execution_count": null,
      "outputs": []
    },
    {
      "cell_type": "code",
      "metadata": {
        "id": "noBrWT7SXIBb"
      },
      "source": [
        "ex.add_artifact(filename = model_fname+'_arch', name=f'./{model_fname}_arch.txt')\n",
        "ex.add_artifact(filename = model_fname, name=f'./{model_fname}.pth')"
      ],
      "execution_count": null,
      "outputs": []
    },
    {
      "cell_type": "markdown",
      "metadata": {
        "id": "8p6k-S9z84LQ"
      },
      "source": [
        "# Stop Run"
      ]
    },
    {
      "cell_type": "code",
      "metadata": {
        "id": "Z87zvix_r2Gh"
      },
      "source": [
        "# Stop run  \n",
        "neptune_run.stop()"
      ],
      "execution_count": null,
      "outputs": []
    }
  ]
}